{
 "cells": [
  {
   "cell_type": "code",
   "execution_count": 23,
   "metadata": {
    "collapsed": false
   },
   "outputs": [],
   "source": [
    "####\n",
    "# @author: Nwamaka Nzeocha and Fabian Okeke\n",
    "# @course: CS 5304/Data Science in the Wild\n",
    "####"
   ]
  },
  {
   "cell_type": "markdown",
   "metadata": {},
   "source": [
    "# Environment setup"
   ]
  },
  {
   "cell_type": "markdown",
   "metadata": {
    "collapsed": false
   },
   "source": [
    "**useful tensor flow notebook:**\n",
    " - http://bit.ly/1NjhcfQ\n",
    " - http://katbailey.github.io/post/neural-nets-in-python/\n",
    " - https://medium.com/@ilblackdragon/tensorflow-tutorial-part-1-c559c63c0cb1#.al2qi7pab\n",
    "\n",
    "**libraries:**\n",
    " - pip install https://storage.googleapis.com/tensorflow/mac/tensorflow-0.8.0-py2-none-any.whl \n",
    "\n",
    "**dataset:**\n",
    " - https://s3.amazonaws.com/giyengar-cs5304/a4_smvl_tst.gz\n",
    " - https://s3.amazonaws.com/giyengar-cs5304/a4_smvl_val.gz\n",
    " - https://s3.amazonaws.com/giyengar-cs5304/a4_smvl_trn.gz"
   ]
  },
  {
   "cell_type": "markdown",
   "metadata": {},
   "source": [
    "# Add libraries and relevant functions"
   ]
  },
  {
   "cell_type": "code",
   "execution_count": 2,
   "metadata": {
    "collapsed": false
   },
   "outputs": [
    {
     "name": "stderr",
     "output_type": "stream",
     "text": [
      "/Users/fnokeke/dev/cs5304/deepLearning/skflow/lib/python2.7/site-packages/matplotlib/font_manager.py:273: UserWarning: Matplotlib is building the font cache using fc-list. This may take a moment.\n",
      "  warnings.warn('Matplotlib is building the font cache using fc-list. This may take a moment.')\n"
     ]
    }
   ],
   "source": [
    "import random\n",
    "import os.path\n",
    "import pandas as pd\n",
    "import numpy as np\n",
    "\n",
    "from sklearn import metrics\n",
    "from sklearn.linear_model import LogisticRegression\n",
    "\n",
    "from sklearn.linear_model import SGDClassifier\n",
    "from sklearn.datasets import load_svmlight_file\n",
    "from tensorflow.contrib import learn\n",
    "\n",
    "from time import time\n",
    "\n",
    "import matplotlib.pyplot as plt\n",
    "plt.style.use('fivethirtyeight')\n",
    "%matplotlib inline\n",
    "\n",
    "\n",
    "\n",
    "#############\n",
    "# helper functions\n",
    "#############\n",
    "def exists(filepath):\n",
    "    return os.path.exists(filepath)\n",
    "\n",
    "def get_data(filepath):\n",
    "    start = time()\n",
    "    data = load_svmlight_file(filepath)\n",
    "    print 'Loading duration(secs):', time() - start\n",
    "    return data[0].toarray(), data[1]\n",
    "\n",
    "def get_best_params(model, training_data, test_data):\n",
    "    \"\"\"\n",
    "    Find the best hyper parameters for model given the training and test data\n",
    "    \n",
    "    \n",
    "    Parameters\n",
    "    -----\n",
    "    model: machine learning model such as Logistic Regression, MultiLayer Perceptron\n",
    "    \n",
    "    training_data: list containing X,y training data\n",
    "    \n",
    "    test_data: list containing test X,y test data\n",
    "    \n",
    "    \n",
    "    Returns\n",
    "    ------\n",
    "    y_predicted, y_test, accuracy, auc, brier_loss\n",
    "    \"\"\"\n",
    "    \n",
    "    # choose model\n",
    "    if model == \"LR\":\n",
    "        model = LogisticRegression()\n",
    "    elif model == \"TF\":\n",
    "        model = learn.TensorFlowDNNClassifier(hidden_units=[10, 20], n_classes=2, steps=10, batch_size=100)     \n",
    "    \n",
    "    # fit & predict\n",
    "    X_train, y_train = training_data\n",
    "    X_test, y_test = test_data\n",
    "\n",
    "    start = time()\n",
    "    model.fit(X_train, y_train)\n",
    "    y_pred = model.predict(X_test)\n",
    "  \n",
    "    # compute accuracy, auc\n",
    "    accuracy = metrics.accuracy_score(y_test, y_pred)\n",
    "    auc = metrics.roc_auc_score(y_test, y_pred)\n",
    "    \n",
    "    print 'Accuracy: {0:f}'.format(accuracy)\n",
    "    print 'AUC: {0:f}'.format(auc)\n",
    "    \n",
    "    # compute brier loss\n",
    "    y_prob = model.predict_proba(X_test)[:,1] \n",
    "    brier_loss = metrics.brier_score_loss(y_test, y_prob, pos_label=1)\n",
    "\n",
    "    print 'Model computation duration (secs):', time() - start\n",
    "    return (y_pred, y_test, accuracy, auc, brier_loss)"
   ]
  },
  {
   "cell_type": "markdown",
   "metadata": {},
   "source": [
    "# Split training data into smaller files"
   ]
  },
  {
   "cell_type": "code",
   "execution_count": 211,
   "metadata": {
    "collapsed": false
   },
   "outputs": [
    {
     "name": "stdout",
     "output_type": "stream",
     "text": [
      "training file already split\n"
     ]
    }
   ],
   "source": [
    "if not exists('trainingaa'):\n",
    "    !wc -l 100000 'a4_smvl_trn' training\n",
    "else:\n",
    "    print 'training file already split.'"
   ]
  },
  {
   "cell_type": "markdown",
   "metadata": {},
   "source": [
    "# Logistic Regression partial fit"
   ]
  },
  {
   "cell_type": "code",
   "execution_count": 147,
   "metadata": {
    "collapsed": false
   },
   "outputs": [
    {
     "name": "stdout",
     "output_type": "stream",
     "text": [
      "still debuggin'\n"
     ]
    }
   ],
   "source": [
    "# get all training files\n",
    "debug = False\n",
    "if debug: \n",
    "    cwd = os.getcwd()\n",
    "    tr_files = [f for f in os.listdir(cwd) if 'training' in f]\n",
    "\n",
    "    # create model\n",
    "    lr = SGDClassifier(loss=\"log\")\n",
    "    classes = [1, -1]\n",
    "\n",
    "    start = time()\n",
    "    for f in tr_files:\n",
    "        X_train, y_train = get_data(f)\n",
    "        lr.partial_fit(X_train, y_train, classes=classes)\n",
    "        print '%s finished...' % f\n",
    "    print 'All completed.'\n",
    "    print 'Spent time:', time() - star\n",
    "else:\n",
    "    print \"still debuggin'\""
   ]
  },
  {
   "cell_type": "markdown",
   "metadata": {},
   "source": [
    "# Load small training and test"
   ]
  },
  {
   "cell_type": "code",
   "execution_count": 4,
   "metadata": {
    "collapsed": false
   },
   "outputs": [
    {
     "name": "stdout",
     "output_type": "stream",
     "text": [
      "Loading duration(secs): 1.90114998817\n"
     ]
    }
   ],
   "source": [
    "X_train, y_train = get_data('trainSmall')"
   ]
  },
  {
   "cell_type": "code",
   "execution_count": 5,
   "metadata": {
    "collapsed": false
   },
   "outputs": [
    {
     "name": "stdout",
     "output_type": "stream",
     "text": [
      "Loading duration(secs): 1.63670301437\n"
     ]
    }
   ],
   "source": [
    "X_test, y_test = get_data('vaSmall')"
   ]
  },
  {
   "cell_type": "markdown",
   "metadata": {},
   "source": [
    "# Get results for LR"
   ]
  },
  {
   "cell_type": "code",
   "execution_count": 8,
   "metadata": {
    "collapsed": false
   },
   "outputs": [
    {
     "name": "stdout",
     "output_type": "stream",
     "text": [
      "Accuracy: 0.922660\n",
      "AUC: 0.880379\n",
      "Model computation duration (secs): 114.245299101\n",
      "****Results_LR done****\n"
     ]
    }
   ],
   "source": [
    "results_LR = get_best_params(\"LR\", [X_train, y_train], [X_test, y_test])\n",
    "print \"****Results_LR done****\""
   ]
  },
  {
   "cell_type": "markdown",
   "metadata": {},
   "source": [
    "# Get results for Tensor Flow MLP"
   ]
  },
  {
   "cell_type": "code",
   "execution_count": 6,
   "metadata": {
    "collapsed": false
   },
   "outputs": [
    {
     "name": "stdout",
     "output_type": "stream",
     "text": [
      "Accuracy: 0.800920\n",
      "AUC: 0.500000\n",
      "Model computation duration (secs): 78.8194282055\n",
      "****Results_TF done****\n"
     ]
    }
   ],
   "source": [
    "results_TF = get_best_params(\"TF\", [X_train, y_train], [X_test, y_test])\n",
    "print \"****Results_TF done****\""
   ]
  },
  {
   "cell_type": "markdown",
   "metadata": {},
   "source": [
    "# ROC curves, Brier Score, Accuracy scores, AUC scores"
   ]
  },
  {
   "cell_type": "code",
   "execution_count": 9,
   "metadata": {
    "collapsed": false
   },
   "outputs": [
    {
     "name": "stderr",
     "output_type": "stream",
     "text": [
      "/Users/fnokeke/dev/cs5304/deepLearning/skflow/lib/python2.7/site-packages/sklearn/metrics/ranking.py:530: UndefinedMetricWarning: No negative samples in y_true, false positive value should be meaningless\n",
      "  UndefinedMetricWarning)\n"
     ]
    },
    {
     "data": {
      "image/png": "[encoded data removed]",
      "text/plain": [
       "<matplotlib.figure.Figure at 0x1189a8710>"
      ]
     },
     "metadata": {},
     "output_type": "display_data"
    }
   ],
   "source": [
    "y_predictions = {\n",
    "    'Logistic Regression': results_LR,\n",
    "    'Tensor Flow': results_TF\n",
    "}\n",
    "\n",
    "fig, axes = plt.subplots(1, len(y_predictions), sharey=True)\n",
    "fig.set_size_inches(15,5)\n",
    "i = 0\n",
    "\n",
    "for title, results in y_predictions.items():\n",
    "    y_pred, y_va, accuracy, auc, brier_loss = results\n",
    "    \n",
    "    fpr, tpr, thresholds = metrics.roc_curve(y_pred, y_va, pos_label=1)\n",
    "    \n",
    "    label = 'Accuracy = %0.2f \\nAUC = %0.2f \\nBrier Loss = %0.2f' % (accuracy, auc, brier_loss)\n",
    "    axes[i].plot(fpr, tpr, label=label)\n",
    "    axes[i].set_title(title)\n",
    "    axes[i].legend(loc='lower right')\n",
    "    i += 1"
   ]
  },
  {
   "cell_type": "code",
   "execution_count": null,
   "metadata": {
    "collapsed": true
   },
   "outputs": [],
   "source": []
  },
  {
   "cell_type": "code",
   "execution_count": null,
   "metadata": {
    "collapsed": true
   },
   "outputs": [],
   "source": []
  },
  {
   "cell_type": "code",
   "execution_count": null,
   "metadata": {
    "collapsed": true
   },
   "outputs": [],
   "source": []
  },
  {
   "cell_type": "code",
   "execution_count": null,
   "metadata": {
    "collapsed": true
   },
   "outputs": [],
   "source": []
  },
  {
   "cell_type": "code",
   "execution_count": null,
   "metadata": {
    "collapsed": true
   },
   "outputs": [],
   "source": []
  },
  {
   "cell_type": "code",
   "execution_count": null,
   "metadata": {
    "collapsed": true
   },
   "outputs": [],
   "source": []
  },
  {
   "cell_type": "code",
   "execution_count": null,
   "metadata": {
    "collapsed": true
   },
   "outputs": [],
   "source": []
  },
  {
   "cell_type": "code",
   "execution_count": null,
   "metadata": {
    "collapsed": true
   },
   "outputs": [],
   "source": []
  },
  {
   "cell_type": "code",
   "execution_count": null,
   "metadata": {
    "collapsed": true
   },
   "outputs": [],
   "source": []
  },
  {
   "cell_type": "code",
   "execution_count": null,
   "metadata": {
    "collapsed": true
   },
   "outputs": [],
   "source": []
  },
  {
   "cell_type": "code",
   "execution_count": null,
   "metadata": {
    "collapsed": true
   },
   "outputs": [],
   "source": []
  },
  {
   "cell_type": "code",
   "execution_count": null,
   "metadata": {
    "collapsed": true
   },
   "outputs": [],
   "source": []
  },
  {
   "cell_type": "code",
   "execution_count": 7,
   "metadata": {
    "collapsed": false
   },
   "outputs": [
    {
     "name": "stdout",
     "output_type": "stream",
     "text": [
      "Help on class TensorFlowDNNClassifier in module tensorflow.contrib.learn.python.learn.estimators.dnn:\n",
      "\n",
      "class TensorFlowDNNClassifier(tensorflow.contrib.learn.python.learn.estimators.base.TensorFlowEstimator, sklearn.base.ClassifierMixin)\n",
      " |  TensorFlow DNN Classifier model.\n",
      " |  \n",
      " |  Parameters:\n",
      " |      hidden_units: List of hidden units per layer.\n",
      " |      n_classes: Number of classes in the target.\n",
      " |      batch_size: Mini batch size.\n",
      " |      steps: Number of steps to run over data.\n",
      " |      optimizer: Optimizer name (or class), for example \"SGD\", \"Adam\",\n",
      " |                 \"Adagrad\".\n",
      " |      learning_rate: If this is constant float value, no decay function is used.\n",
      " |          Instead, a customized decay function can be passed that accepts\n",
      " |          global_step as parameter and returns a Tensor.\n",
      " |          e.g. exponential decay function:\n",
      " |          def exp_decay(global_step):\n",
      " |              return tf.train.exponential_decay(\n",
      " |                  learning_rate=0.1, global_step,\n",
      " |                  decay_steps=2, decay_rate=0.001)\n",
      " |      class_weight: None or list of n_classes floats. Weight associated with\n",
      " |                   classes for loss computation. If not given, all classes are suppose to have\n",
      " |                   weight one.\n",
      " |      continue_training: when continue_training is True, once initialized\n",
      " |          model will be continuely trained on every call of fit.\n",
      " |      config: RunConfig object that controls the configurations of the session,\n",
      " |          e.g. num_cores, gpu_memory_fraction, etc.\n",
      " |      dropout: When not None, the probability we will drop out a given\n",
      " |               coordinate.\n",
      " |  \n",
      " |  Method resolution order:\n",
      " |      TensorFlowDNNClassifier\n",
      " |      tensorflow.contrib.learn.python.learn.estimators.base.TensorFlowEstimator\n",
      " |      sklearn.base.BaseEstimator\n",
      " |      sklearn.base.ClassifierMixin\n",
      " |      __builtin__.object\n",
      " |  \n",
      " |  Methods defined here:\n",
      " |  \n",
      " |  __init__(self, hidden_units, n_classes, batch_size=32, steps=200, optimizer='Adagrad', learning_rate=0.1, class_weight=None, clip_gradients=5.0, continue_training=False, config=None, verbose=1, dropout=None)\n",
      " |  \n",
      " |  ----------------------------------------------------------------------\n",
      " |  Data descriptors defined here:\n",
      " |  \n",
      " |  bias_\n",
      " |      Returns bias of the DNN's bias layers.\n",
      " |  \n",
      " |  weights_\n",
      " |      Returns weights of the DNN weight layers.\n",
      " |  \n",
      " |  ----------------------------------------------------------------------\n",
      " |  Methods inherited from tensorflow.contrib.learn.python.learn.estimators.base.TensorFlowEstimator:\n",
      " |  \n",
      " |  fit(self, X, y, monitor=None, logdir=None)\n",
      " |      Builds a neural network model given provided `model_fn` and training\n",
      " |      data X and y.\n",
      " |      \n",
      " |      Note: called first time constructs the graph and initializers\n",
      " |      variables. Consecutives times it will continue training the same model.\n",
      " |      This logic follows partial_fit() interface in scikit-learn.\n",
      " |      \n",
      " |      To restart learning, create new estimator.\n",
      " |      \n",
      " |      Args:\n",
      " |          X: matrix or tensor of shape [n_samples, n_features...]. Can be\n",
      " |          iterator that returns arrays of features. The training input\n",
      " |          samples for fitting the model.\n",
      " |          y: vector or matrix [n_samples] or [n_samples, n_outputs]. Can be\n",
      " |          iterator that returns array of targets. The training target values\n",
      " |          (class labels in classification, real numbers in regression).\n",
      " |          monitor: Monitor object to print training progress and invoke early stopping\n",
      " |          logdir: the directory to save the log file that can be used for\n",
      " |          optional visualization.\n",
      " |      \n",
      " |      Returns:\n",
      " |          Returns self.\n",
      " |  \n",
      " |  get_tensor(self, name)\n",
      " |      Returns tensor by name.\n",
      " |      \n",
      " |      Args:\n",
      " |          name: string, name of the tensor.\n",
      " |      \n",
      " |      Returns:\n",
      " |          Tensor.\n",
      " |  \n",
      " |  get_tensor_value(self, name)\n",
      " |      Returns value of the tensor give by name.\n",
      " |      \n",
      " |      Args:\n",
      " |          name: string, name of the tensor.\n",
      " |      \n",
      " |      Returns:\n",
      " |          Numpy array - value of the tensor.\n",
      " |  \n",
      " |  partial_fit(self, X, y)\n",
      " |      Incremental fit on a batch of samples.\n",
      " |      \n",
      " |      This method is expected to be called several times consecutively\n",
      " |      on different or the same chunks of the dataset. This either can\n",
      " |      implement iterative training or out-of-core/online training.\n",
      " |      \n",
      " |      This is especially useful when the whole dataset is too big to\n",
      " |      fit in memory at the same time. Or when model is taking long time\n",
      " |      to converge, and you want to split up training into subparts.\n",
      " |      \n",
      " |      Args:\n",
      " |          X: matrix or tensor of shape [n_samples, n_features...]. Can be\n",
      " |          iterator that returns arrays of features. The training input\n",
      " |          samples for fitting the model.\n",
      " |          y: vector or matrix [n_samples] or [n_samples, n_outputs]. Can be\n",
      " |          iterator that returns array of targets. The training target values\n",
      " |          (class label in classification, real numbers in regression).\n",
      " |      \n",
      " |      Returns:\n",
      " |          Returns self.\n",
      " |  \n",
      " |  predict(self, X, axis=1, batch_size=None)\n",
      " |      Predict class or regression for X.\n",
      " |      \n",
      " |      For a classification model, the predicted class for each sample in X is\n",
      " |      returned. For a regression model, the predicted value based on X is\n",
      " |      returned.\n",
      " |      \n",
      " |      Args:\n",
      " |          X: array-like matrix, [n_samples, n_features...] or iterator.\n",
      " |          axis: Which axis to argmax for classification.\n",
      " |                By default axis 1 (next after batch) is used.\n",
      " |                Use 2 for sequence predictions.\n",
      " |          batch_size: If test set is too big, use batch size to split\n",
      " |                      it into mini batches. By default the batch_size member\n",
      " |                      variable is used.\n",
      " |      \n",
      " |      Returns:\n",
      " |          y: array of shape [n_samples]. The predicted classes or predicted\n",
      " |          value.\n",
      " |  \n",
      " |  predict_proba(self, X, batch_size=None)\n",
      " |      Predict class probability of the input samples X.\n",
      " |      \n",
      " |      Args:\n",
      " |          X: array-like matrix, [n_samples, n_features...] or iterator.\n",
      " |          batch_size: If test set is too big, use batch size to split\n",
      " |                      it into mini batches. By default the batch_size\n",
      " |                      member variable is used.\n",
      " |      \n",
      " |      Returns:\n",
      " |          y: array of shape [n_samples, n_classes]. The predicted\n",
      " |          probabilities for each class.\n",
      " |  \n",
      " |  save(self, path)\n",
      " |      Saves checkpoints and graph to given path.\n",
      " |      \n",
      " |      Args:\n",
      " |          path: Folder to save model to.\n",
      " |  \n",
      " |  ----------------------------------------------------------------------\n",
      " |  Class methods inherited from tensorflow.contrib.learn.python.learn.estimators.base.TensorFlowEstimator:\n",
      " |  \n",
      " |  restore(cls, path, config=None) from __builtin__.type\n",
      " |      Restores model from give path.\n",
      " |      \n",
      " |      Args:\n",
      " |          path: Path to the checkpoints and other model information.\n",
      " |          config: RunConfig object that controls the configurations of the session,\n",
      " |              e.g. num_cores, gpu_memory_fraction, etc. This is allowed to be reconfigured.\n",
      " |      \n",
      " |      Returns:\n",
      " |          Estiamator, object of the subclass of TensorFlowEstimator.\n",
      " |  \n",
      " |  ----------------------------------------------------------------------\n",
      " |  Methods inherited from sklearn.base.BaseEstimator:\n",
      " |  \n",
      " |  __repr__(self)\n",
      " |  \n",
      " |  get_params(self, deep=True)\n",
      " |      Get parameters for this estimator.\n",
      " |      \n",
      " |      Parameters\n",
      " |      ----------\n",
      " |      deep: boolean, optional\n",
      " |          If True, will return the parameters for this estimator and\n",
      " |          contained subobjects that are estimators.\n",
      " |      \n",
      " |      Returns\n",
      " |      -------\n",
      " |      params : mapping of string to any\n",
      " |          Parameter names mapped to their values.\n",
      " |  \n",
      " |  set_params(self, **params)\n",
      " |      Set the parameters of this estimator.\n",
      " |      \n",
      " |      The method works on simple estimators as well as on nested objects\n",
      " |      (such as pipelines). The former have parameters of the form\n",
      " |      ``<component>__<parameter>`` so that it's possible to update each\n",
      " |      component of a nested object.\n",
      " |      \n",
      " |      Returns\n",
      " |      -------\n",
      " |      self\n",
      " |  \n",
      " |  ----------------------------------------------------------------------\n",
      " |  Data descriptors inherited from sklearn.base.BaseEstimator:\n",
      " |  \n",
      " |  __dict__\n",
      " |      dictionary for instance variables (if defined)\n",
      " |  \n",
      " |  __weakref__\n",
      " |      list of weak references to the object (if defined)\n",
      " |  \n",
      " |  ----------------------------------------------------------------------\n",
      " |  Methods inherited from sklearn.base.ClassifierMixin:\n",
      " |  \n",
      " |  score(self, X, y, sample_weight=None)\n",
      " |      Returns the mean accuracy on the given test data and labels.\n",
      " |      \n",
      " |      In multi-label classification, this is the subset accuracy\n",
      " |      which is a harsh metric since you require for each sample that\n",
      " |      each label set be correctly predicted.\n",
      " |      \n",
      " |      Parameters\n",
      " |      ----------\n",
      " |      X : array-like, shape = (n_samples, n_features)\n",
      " |          Test samples.\n",
      " |      \n",
      " |      y : array-like, shape = (n_samples) or (n_samples, n_outputs)\n",
      " |          True labels for X.\n",
      " |      \n",
      " |      sample_weight : array-like, shape = [n_samples], optional\n",
      " |          Sample weights.\n",
      " |      \n",
      " |      Returns\n",
      " |      -------\n",
      " |      score : float\n",
      " |          Mean accuracy of self.predict(X) wrt. y.\n",
      "\n"
     ]
    }
   ],
   "source": [
    "help(learn.TensorFlowDNNClassifier)"
   ]
  },
  {
   "cell_type": "code",
   "execution_count": 39,
   "metadata": {
    "collapsed": false
   },
   "outputs": [
    {
     "name": "stdout",
     "output_type": "stream",
     "text": [
      "params: (0.3, 'Adam') acc: 0.6843 auc: 0.561431386975\n",
      "params: (0.3, 'Adagrad') acc: 0.7637 auc: 0.5\n",
      "params: (30.0, 'Adam') acc: 0.6798 auc: 0.525264721481\n",
      "params: (30.0, 'Adagrad') acc: 0.0 auc: 0.5\n",
      "params: (300.0, 'Adam') acc: 0.7637 auc: 0.5\n",
      "params: (300.0, 'Adagrad') acc: 0.7637 auc: 0.5\n",
      "\n",
      "Time spent(secs): 33.819133997\n",
      "Done!\n",
      "Best rate: 0.300000\n",
      "Best optimizer: \"Adam\"\n",
      "Best auc: 0.561431\n",
      "Acc: 0.684300\n"
     ]
    }
   ],
   "source": [
    "import itertools\n",
    "\n",
    "learning_rates = [0.3, 30.0, 300.0]\n",
    "optimizers = ['Adam', 'Adagrad']\n",
    "best_rate, best_optz, best_auc, acc, model_TF = None, None, None, None, None\n",
    "\n",
    "start = time()\n",
    "for params in itertools.product(learning_rates, optimizers):\n",
    "    rate, optz = params    \n",
    "    try:\n",
    "        model_TF = learn.TensorFlowDNNRegressor(hidden_units=[10, 20], n_classes=2, steps=5, batch_size=32, \n",
    "                                                learning_rate=rate, optimizer=optz)\n",
    "        model_TF.fit(X_train, y_train)\n",
    "        y_pred = model_TF.predict(X_test)\n",
    "\n",
    "        accuracy = metrics.accuracy_score(y_test, y_pred)\n",
    "        auc = metrics.roc_auc_score(y_test, y_pred)\n",
    "        \n",
    "        print 'params:', params, 'acc:', accuracy, 'auc:', auc\n",
    "        \n",
    "        if best_auc == None or best_auc < auc:\n",
    "            best_rate, best_optz, best_auc, acc  = rate, optz, auc, accuracy\n",
    "            \n",
    "    except Exception as err:\n",
    "        print 'Unexpected error:', err\n",
    "\n",
    "print\n",
    "print 'Time spent(secs):', time() - start\n",
    "\n",
    "print 'Done!'\n",
    "print 'Best rate: %f\\nBest optimizer: \"%s\"\\nBest auc: %f\\nAcc: %f' % (best_rate, best_optz, best_auc, acc)"
   ]
  },
  {
   "cell_type": "code",
   "execution_count": null,
   "metadata": {
    "collapsed": true
   },
   "outputs": [],
   "source": []
  }
 ],
 "metadata": {
  "kernelspec": {
   "display_name": "Python 2",
   "language": "python",
   "name": "python2"
  },
  "language_info": {
   "codemirror_mode": {
    "name": "ipython",
    "version": 2
   },
   "file_extension": ".py",
   "mimetype": "text/x-python",
   "name": "python",
   "nbconvert_exporter": "python",
   "pygments_lexer": "ipython2",
   "version": "2.7.10"
  }
 },
 "nbformat": 4,
 "nbformat_minor": 0
}
