{
 "cells": [
  {
   "cell_type": "code",
   "execution_count": 329,
   "metadata": {
    "collapsed": false
   },
   "outputs": [],
   "source": [
    "import random\n",
    "import os.path\n",
    "import pandas as pd\n",
    "import numpy as np\n",
    "\n",
    "from pyspark.sql import SQLContext, Row\n",
    "from pyspark.sql.types import *\n",
    "\n",
    "import matplotlib\n",
    "matplotlib.style.use('ggplot')"
   ]
  },
  {
   "cell_type": "code",
   "execution_count": null,
   "metadata": {
    "collapsed": true
   },
   "outputs": [],
   "source": [
    "def exists(filepath):\n",
    "    return os.path.exists(filepath)"
   ]
  },
  {
   "cell_type": "markdown",
   "metadata": {},
   "source": [
    "# Split 48 million rows to 10 million(training) & 38 million(testing)"
   ]
  },
  {
   "cell_type": "code",
   "execution_count": null,
   "metadata": {
    "collapsed": true
   },
   "outputs": [],
   "source": [
    "if (exists('train10M.txt') and exists('test38M.txt')):\n",
    "    print \"train10M.txt and test38M.txt already created before.\"\n",
    "else:\n",
    "    !split -l 2000000 train.txt ff\n",
    "    !cat ffaa ffat ffaf ffaq ffaj > train10M.txt\n",
    "    !rm ffaa ffat ffaf ffaq ffaj\n",
    "    !cat ff* > train38M.txt\n",
    "    !rm ff*\n",
    "    print \"Newly created files: train10M.txt and test38M.txt.\""
   ]
  },
  {
   "cell_type": "markdown",
   "metadata": {},
   "source": [
    "# Split training data into 3 partitions"
   ]
  },
  {
   "cell_type": "code",
   "execution_count": null,
   "metadata": {
    "collapsed": false
   },
   "outputs": [],
   "source": [
    "if (exists('train5M.txt') and \n",
    "    exists('validation2M.txt') and \n",
    "    exists('test3M.txt')):\n",
    "    print \"train5M.txt, validation2M.txt, test3M.txt already created before.\"\n",
    "else:\n",
    "    !split -l 1000000 train10M.txt ff\n",
    "    !cat ffaa ffaj ffad ffaf ffah > train5M.txt    \n",
    "    !cat ffai ffae > validation2M.txt\n",
    "    !cat ffac ffag ffab > test3M.txt\n",
    "    !rm ff*\n",
    "    print \"Newly created files: train5M.txt, validation2M.txt, test3M.txt.\""
   ]
  },
  {
   "cell_type": "markdown",
   "metadata": {},
   "source": [
    "# Perform training and analysis with train5M data"
   ]
  },
  {
   "cell_type": "code",
   "execution_count": 404,
   "metadata": {
    "collapsed": false
   },
   "outputs": [
    {
     "name": "stdout",
     "output_type": "stream",
     "text": [
      "(4999999, 40)\n"
     ]
    }
   ],
   "source": [
    "df = pd.read_table('train5M.txt')\n",
    "print df.shape"
   ]
  },
  {
   "cell_type": "markdown",
   "metadata": {},
   "source": [
    "# Remove and save the first column as y "
   ]
  },
  {
   "cell_type": "code",
   "execution_count": 405,
   "metadata": {
    "collapsed": false
   },
   "outputs": [],
   "source": [
    "y = df['0']\n",
    "df = df.drop('0', 1)"
   ]
  },
  {
   "cell_type": "markdown",
   "metadata": {},
   "source": [
    "# Rename column for train5m data"
   ]
  },
  {
   "cell_type": "code",
   "execution_count": 407,
   "metadata": {
    "collapsed": false
   },
   "outputs": [],
   "source": [
    "new_col_names = ['f' + str(num) for num in range(1,len(df.columns)+1)]\n",
    "df.columns = new_col_names"
   ]
  },
  {
   "cell_type": "markdown",
   "metadata": {},
   "source": [
    "# Get summary stats for all integer columns"
   ]
  },
  {
   "cell_type": "code",
   "execution_count": 408,
   "metadata": {
    "collapsed": false,
    "scrolled": true
   },
   "outputs": [
    {
     "data": {
      "text/html": [
       "<div>\n",
       "<table border=\"1\" class=\"dataframe\">\n",
       "  <thead>\n",
       "    <tr style=\"text-align: right;\">\n",
       "      <th></th>\n",
       "      <th>f1</th>\n",
       "      <th>f2</th>\n",
       "      <th>f3</th>\n",
       "      <th>f4</th>\n",
       "      <th>f5</th>\n",
       "      <th>f6</th>\n",
       "      <th>f7</th>\n",
       "      <th>f8</th>\n",
       "      <th>f9</th>\n",
       "      <th>f10</th>\n",
       "      <th>f11</th>\n",
       "      <th>f12</th>\n",
       "      <th>f13</th>\n",
       "    </tr>\n",
       "  </thead>\n",
       "  <tbody>\n",
       "    <tr>\n",
       "      <th>count</th>\n",
       "      <td>2756813.000000</td>\n",
       "      <td>4999999.000000</td>\n",
       "      <td>3906401.000000</td>\n",
       "      <td>3853777.000000</td>\n",
       "      <td>4863896.000000</td>\n",
       "      <td>3887221.000000</td>\n",
       "      <td>4788996.000000</td>\n",
       "      <td>4997037.000000</td>\n",
       "      <td>4788996.000000</td>\n",
       "      <td>2756813.000000</td>\n",
       "      <td>4788996.000000</td>\n",
       "      <td>1177668.000000</td>\n",
       "      <td>3853777.000000</td>\n",
       "    </tr>\n",
       "    <tr>\n",
       "      <th>mean</th>\n",
       "      <td>3.550075</td>\n",
       "      <td>98.595417</td>\n",
       "      <td>30.839373</td>\n",
       "      <td>7.429061</td>\n",
       "      <td>18112.661813</td>\n",
       "      <td>118.854952</td>\n",
       "      <td>16.559919</td>\n",
       "      <td>12.785998</td>\n",
       "      <td>110.211554</td>\n",
       "      <td>0.610537</td>\n",
       "      <td>2.751485</td>\n",
       "      <td>0.946656</td>\n",
       "      <td>8.385096</td>\n",
       "    </tr>\n",
       "    <tr>\n",
       "      <th>std</th>\n",
       "      <td>9.865513</td>\n",
       "      <td>385.372407</td>\n",
       "      <td>494.089496</td>\n",
       "      <td>9.024720</td>\n",
       "      <td>68140.203950</td>\n",
       "      <td>421.572801</td>\n",
       "      <td>71.788627</td>\n",
       "      <td>19.683659</td>\n",
       "      <td>229.168662</td>\n",
       "      <td>0.690870</td>\n",
       "      <td>5.243586</td>\n",
       "      <td>5.745028</td>\n",
       "      <td>21.412443</td>\n",
       "    </tr>\n",
       "    <tr>\n",
       "      <th>min</th>\n",
       "      <td>0.000000</td>\n",
       "      <td>-3.000000</td>\n",
       "      <td>0.000000</td>\n",
       "      <td>0.000000</td>\n",
       "      <td>0.000000</td>\n",
       "      <td>0.000000</td>\n",
       "      <td>0.000000</td>\n",
       "      <td>0.000000</td>\n",
       "      <td>0.000000</td>\n",
       "      <td>0.000000</td>\n",
       "      <td>0.000000</td>\n",
       "      <td>0.000000</td>\n",
       "      <td>0.000000</td>\n",
       "    </tr>\n",
       "    <tr>\n",
       "      <th>25%</th>\n",
       "      <td>0.000000</td>\n",
       "      <td>0.000000</td>\n",
       "      <td>2.000000</td>\n",
       "      <td>2.000000</td>\n",
       "      <td>561.000000</td>\n",
       "      <td>8.000000</td>\n",
       "      <td>1.000000</td>\n",
       "      <td>2.000000</td>\n",
       "      <td>11.000000</td>\n",
       "      <td>0.000000</td>\n",
       "      <td>1.000000</td>\n",
       "      <td>0.000000</td>\n",
       "      <td>2.000000</td>\n",
       "    </tr>\n",
       "    <tr>\n",
       "      <th>50%</th>\n",
       "      <td>1.000000</td>\n",
       "      <td>2.000000</td>\n",
       "      <td>6.000000</td>\n",
       "      <td>4.000000</td>\n",
       "      <td>2802.000000</td>\n",
       "      <td>33.000000</td>\n",
       "      <td>3.000000</td>\n",
       "      <td>7.000000</td>\n",
       "      <td>40.000000</td>\n",
       "      <td>1.000000</td>\n",
       "      <td>1.000000</td>\n",
       "      <td>0.000000</td>\n",
       "      <td>4.000000</td>\n",
       "    </tr>\n",
       "    <tr>\n",
       "      <th>75%</th>\n",
       "      <td>3.000000</td>\n",
       "      <td>34.000000</td>\n",
       "      <td>17.000000</td>\n",
       "      <td>10.000000</td>\n",
       "      <td>10082.000000</td>\n",
       "      <td>104.000000</td>\n",
       "      <td>12.000000</td>\n",
       "      <td>19.000000</td>\n",
       "      <td>114.000000</td>\n",
       "      <td>1.000000</td>\n",
       "      <td>3.000000</td>\n",
       "      <td>0.000000</td>\n",
       "      <td>10.000000</td>\n",
       "    </tr>\n",
       "    <tr>\n",
       "      <th>max</th>\n",
       "      <td>1900.000000</td>\n",
       "      <td>257675.000000</td>\n",
       "      <td>65535.000000</td>\n",
       "      <td>563.000000</td>\n",
       "      <td>23159456.000000</td>\n",
       "      <td>367553.000000</td>\n",
       "      <td>56311.000000</td>\n",
       "      <td>5064.000000</td>\n",
       "      <td>29019.000000</td>\n",
       "      <td>9.000000</td>\n",
       "      <td>165.000000</td>\n",
       "      <td>1881.000000</td>\n",
       "      <td>7393.000000</td>\n",
       "    </tr>\n",
       "  </tbody>\n",
       "</table>\n",
       "</div>"
      ],
      "text/plain": [
       "                   f1              f2              f3              f4  \\\n",
       "count  2756813.000000  4999999.000000  3906401.000000  3853777.000000   \n",
       "mean         3.550075       98.595417       30.839373        7.429061   \n",
       "std          9.865513      385.372407      494.089496        9.024720   \n",
       "min          0.000000       -3.000000        0.000000        0.000000   \n",
       "25%          0.000000        0.000000        2.000000        2.000000   \n",
       "50%          1.000000        2.000000        6.000000        4.000000   \n",
       "75%          3.000000       34.000000       17.000000       10.000000   \n",
       "max       1900.000000   257675.000000    65535.000000      563.000000   \n",
       "\n",
       "                    f5              f6              f7              f8  \\\n",
       "count   4863896.000000  3887221.000000  4788996.000000  4997037.000000   \n",
       "mean      18112.661813      118.854952       16.559919       12.785998   \n",
       "std       68140.203950      421.572801       71.788627       19.683659   \n",
       "min           0.000000        0.000000        0.000000        0.000000   \n",
       "25%         561.000000        8.000000        1.000000        2.000000   \n",
       "50%        2802.000000       33.000000        3.000000        7.000000   \n",
       "75%       10082.000000      104.000000       12.000000       19.000000   \n",
       "max    23159456.000000   367553.000000    56311.000000     5064.000000   \n",
       "\n",
       "                   f9             f10             f11             f12  \\\n",
       "count  4788996.000000  2756813.000000  4788996.000000  1177668.000000   \n",
       "mean       110.211554        0.610537        2.751485        0.946656   \n",
       "std        229.168662        0.690870        5.243586        5.745028   \n",
       "min          0.000000        0.000000        0.000000        0.000000   \n",
       "25%         11.000000        0.000000        1.000000        0.000000   \n",
       "50%         40.000000        1.000000        1.000000        0.000000   \n",
       "75%        114.000000        1.000000        3.000000        0.000000   \n",
       "max      29019.000000        9.000000      165.000000     1881.000000   \n",
       "\n",
       "                  f13  \n",
       "count  3853777.000000  \n",
       "mean         8.385096  \n",
       "std         21.412443  \n",
       "min          0.000000  \n",
       "25%          2.000000  \n",
       "50%          4.000000  \n",
       "75%         10.000000  \n",
       "max       7393.000000  "
      ]
     },
     "execution_count": 408,
     "metadata": {},
     "output_type": "execute_result"
    }
   ],
   "source": [
    "all_columns = list(df.columns)\n",
    "integer_cols = all_columns[:13]\n",
    "df[integer_cols].describe()"
   ]
  },
  {
   "cell_type": "markdown",
   "metadata": {},
   "source": [
    "# Create files for each histogram"
   ]
  },
  {
   "cell_type": "code",
   "execution_count": null,
   "metadata": {
    "collapsed": false
   },
   "outputs": [],
   "source": [
    "def m_count_distinct(col):\n",
    "    \"\"\"\n",
    "        count distinct values in all columns\n",
    "        @param col: numpy 1D array\n",
    "        @return: dictionary of value, freq\n",
    "    \"\"\"\n",
    "    d = {}\n",
    "    for x in list(col):\n",
    "        if type(x) == np.float64 and np.isnan(x):\n",
    "            d['NaN'] = d.get('NaN', 0) + 1\n",
    "        else:\n",
    "            d[x] = d.get(x, 0) + 1\n",
    "    return d\n",
    "\n",
    "\n",
    "# ==== create file from result of each freq count ===\n",
    "for col in all_columns:\n",
    "    filepath = 'histo-file/' + col + '.txt'\n",
    "    if (exists(filepath)):\n",
    "        print filepath + \" already created.\"\n",
    "    else:\n",
    "        freq_count = m_count_distinct(df[col].values)\n",
    "        with open(filepath, 'w') as f:\n",
    "            for key, value in freq_count.items():\n",
    "                row = str(key) + \",\" + str(value) + \"\\n\"\n",
    "                f.write(row)\n",
    "        print \"Newly created file:\", filepath"
   ]
  },
  {
   "cell_type": "markdown",
   "metadata": {},
   "source": [
    "# Plot histograms from stored files"
   ]
  },
  {
   "cell_type": "code",
   "execution_count": null,
   "metadata": {
    "collapsed": false
   },
   "outputs": [],
   "source": [
    "for col in all_columns:\n",
    "    filepath = \"histo-file/\" + col + \".txt\"\n",
    "    histo_df = pd.read_csv(filepath, header=None, names=[\"val\", \"freq\"])\n",
    "    ax = histo_df.plot(x='val', y='freq', logy='True', title=col, xlim=(0))\n",
    "    fig = ax.get_figure()\n",
    "    fig.savefig('second-histo-img/' + col + '.png')"
   ]
  },
  {
   "cell_type": "markdown",
   "metadata": {},
   "source": [
    "# Normalize integer columns after transpose"
   ]
  },
  {
   "cell_type": "code",
   "execution_count": 436,
   "metadata": {
    "collapsed": false
   },
   "outputs": [
    {
     "data": {
      "text/html": [
       "<div>\n",
       "<table border=\"1\" class=\"dataframe\">\n",
       "  <thead>\n",
       "    <tr style=\"text-align: right;\">\n",
       "      <th></th>\n",
       "      <th>f1</th>\n",
       "      <th>f2</th>\n",
       "      <th>f3</th>\n",
       "      <th>f4</th>\n",
       "      <th>f5</th>\n",
       "      <th>f6</th>\n",
       "      <th>f7</th>\n",
       "      <th>f8</th>\n",
       "      <th>f9</th>\n",
       "      <th>f10</th>\n",
       "      <th>f11</th>\n",
       "      <th>f12</th>\n",
       "      <th>f13</th>\n",
       "    </tr>\n",
       "  </thead>\n",
       "  <tbody>\n",
       "    <tr>\n",
       "      <th>0</th>\n",
       "      <td>0.001053</td>\n",
       "      <td>0.000012</td>\n",
       "      <td>0.000671</td>\n",
       "      <td>0.001776</td>\n",
       "      <td>4.404249e-06</td>\n",
       "      <td>0.000022</td>\n",
       "      <td>0.000036</td>\n",
       "      <td>0.000395</td>\n",
       "      <td>0.000138</td>\n",
       "      <td>0.111111</td>\n",
       "      <td>0.006061</td>\n",
       "      <td>NaN</td>\n",
       "      <td>0.000541</td>\n",
       "    </tr>\n",
       "    <tr>\n",
       "      <th>1</th>\n",
       "      <td>0.001053</td>\n",
       "      <td>0.000012</td>\n",
       "      <td>0.000015</td>\n",
       "      <td>0.024867</td>\n",
       "      <td>3.311822e-05</td>\n",
       "      <td>0.000242</td>\n",
       "      <td>0.000071</td>\n",
       "      <td>0.000395</td>\n",
       "      <td>0.008443</td>\n",
       "      <td>0.111111</td>\n",
       "      <td>0.018182</td>\n",
       "      <td>0.001595</td>\n",
       "      <td>0.006087</td>\n",
       "    </tr>\n",
       "    <tr>\n",
       "      <th>2</th>\n",
       "      <td>NaN</td>\n",
       "      <td>0.003477</td>\n",
       "      <td>NaN</td>\n",
       "      <td>NaN</td>\n",
       "      <td>1.896418e-04</td>\n",
       "      <td>NaN</td>\n",
       "      <td>0.000000</td>\n",
       "      <td>0.000000</td>\n",
       "      <td>0.000000</td>\n",
       "      <td>NaN</td>\n",
       "      <td>0.000000</td>\n",
       "      <td>NaN</td>\n",
       "      <td>NaN</td>\n",
       "    </tr>\n",
       "    <tr>\n",
       "      <th>3</th>\n",
       "      <td>0.001579</td>\n",
       "      <td>0.000008</td>\n",
       "      <td>NaN</td>\n",
       "      <td>0.000000</td>\n",
       "      <td>8.635781e-08</td>\n",
       "      <td>0.000000</td>\n",
       "      <td>0.000053</td>\n",
       "      <td>0.000000</td>\n",
       "      <td>0.000000</td>\n",
       "      <td>0.111111</td>\n",
       "      <td>0.006061</td>\n",
       "      <td>NaN</td>\n",
       "      <td>0.000000</td>\n",
       "    </tr>\n",
       "    <tr>\n",
       "      <th>4</th>\n",
       "      <td>NaN</td>\n",
       "      <td>0.000008</td>\n",
       "      <td>NaN</td>\n",
       "      <td>NaN</td>\n",
       "      <td>5.537263e-04</td>\n",
       "      <td>NaN</td>\n",
       "      <td>0.000000</td>\n",
       "      <td>0.000000</td>\n",
       "      <td>0.000207</td>\n",
       "      <td>NaN</td>\n",
       "      <td>0.000000</td>\n",
       "      <td>NaN</td>\n",
       "      <td>NaN</td>\n",
       "    </tr>\n",
       "  </tbody>\n",
       "</table>\n",
       "</div>"
      ],
      "text/plain": [
       "         f1        f2        f3        f4            f5        f6        f7  \\\n",
       "0  0.001053  0.000012  0.000671  0.001776  4.404249e-06  0.000022  0.000036   \n",
       "1  0.001053  0.000012  0.000015  0.024867  3.311822e-05  0.000242  0.000071   \n",
       "2       NaN  0.003477       NaN       NaN  1.896418e-04       NaN  0.000000   \n",
       "3  0.001579  0.000008       NaN  0.000000  8.635781e-08  0.000000  0.000053   \n",
       "4       NaN  0.000008       NaN       NaN  5.537263e-04       NaN  0.000000   \n",
       "\n",
       "         f8        f9       f10       f11       f12       f13  \n",
       "0  0.000395  0.000138  0.111111  0.006061       NaN  0.000541  \n",
       "1  0.000395  0.008443  0.111111  0.018182  0.001595  0.006087  \n",
       "2  0.000000  0.000000       NaN  0.000000       NaN       NaN  \n",
       "3  0.000000  0.000000  0.111111  0.006061       NaN  0.000000  \n",
       "4  0.000000  0.000207       NaN  0.000000       NaN       NaN  "
      ]
     },
     "execution_count": 436,
     "metadata": {},
     "output_type": "execute_result"
    }
   ],
   "source": [
    "df_norm = df[integer_cols].apply(lambda x: (x - x.min()) / (x.max() - x.min()))\n",
    "df_norm.head()"
   ]
  },
  {
   "cell_type": "markdown",
   "metadata": {},
   "source": [
    "# Select features to be used"
   ]
  },
  {
   "cell_type": "code",
   "execution_count": 461,
   "metadata": {
    "collapsed": false
   },
   "outputs": [
    {
     "data": {
      "text/plain": [
       "['f14', 'f15', 'f16']"
      ]
     },
     "execution_count": 461,
     "metadata": {},
     "output_type": "execute_result"
    }
   ],
   "source": [
    "cols_to_keep = all_columns[13:16]\n",
    "cols_to_keep"
   ]
  },
  {
   "cell_type": "markdown",
   "metadata": {},
   "source": [
    "# One hot encoding"
   ]
  },
  {
   "cell_type": "code",
   "execution_count": 458,
   "metadata": {
    "collapsed": false
   },
   "outputs": [
    {
     "name": "stdout",
     "output_type": "stream",
     "text": [
      "(100000, 6)\n"
     ]
    },
    {
     "data": {
      "text/html": [
       "<div>\n",
       "<table border=\"1\" class=\"dataframe\">\n",
       "  <thead>\n",
       "    <tr style=\"text-align: right;\">\n",
       "      <th></th>\n",
       "      <th>f1</th>\n",
       "      <th>f2</th>\n",
       "      <th>f3</th>\n",
       "      <th>f4</th>\n",
       "      <th>f5</th>\n",
       "      <th>f6</th>\n",
       "    </tr>\n",
       "  </thead>\n",
       "  <tbody>\n",
       "    <tr>\n",
       "      <th>0</th>\n",
       "      <td>2</td>\n",
       "      <td>0</td>\n",
       "      <td>44</td>\n",
       "      <td>1</td>\n",
       "      <td>102</td>\n",
       "      <td>8</td>\n",
       "    </tr>\n",
       "    <tr>\n",
       "      <th>1</th>\n",
       "      <td>2</td>\n",
       "      <td>0</td>\n",
       "      <td>1</td>\n",
       "      <td>14</td>\n",
       "      <td>767</td>\n",
       "      <td>89</td>\n",
       "    </tr>\n",
       "    <tr>\n",
       "      <th>2</th>\n",
       "      <td>NaN</td>\n",
       "      <td>893</td>\n",
       "      <td>NaN</td>\n",
       "      <td>NaN</td>\n",
       "      <td>4392</td>\n",
       "      <td>NaN</td>\n",
       "    </tr>\n",
       "    <tr>\n",
       "      <th>3</th>\n",
       "      <td>3</td>\n",
       "      <td>-1</td>\n",
       "      <td>NaN</td>\n",
       "      <td>0</td>\n",
       "      <td>2</td>\n",
       "      <td>0</td>\n",
       "    </tr>\n",
       "    <tr>\n",
       "      <th>4</th>\n",
       "      <td>NaN</td>\n",
       "      <td>-1</td>\n",
       "      <td>NaN</td>\n",
       "      <td>NaN</td>\n",
       "      <td>12824</td>\n",
       "      <td>NaN</td>\n",
       "    </tr>\n",
       "  </tbody>\n",
       "</table>\n",
       "</div>"
      ],
      "text/plain": [
       "   f1   f2  f3  f4     f5  f6\n",
       "0   2    0  44   1    102   8\n",
       "1   2    0   1  14    767  89\n",
       "2 NaN  893 NaN NaN   4392 NaN\n",
       "3   3   -1 NaN   0      2   0\n",
       "4 NaN   -1 NaN NaN  12824 NaN"
      ]
     },
     "execution_count": 458,
     "metadata": {},
     "output_type": "execute_result"
    }
   ],
   "source": [
    "xx = df.iloc[:100000,:6]\n",
    "print xx.shape\n",
    "xx.head()"
   ]
  },
  {
   "cell_type": "code",
   "execution_count": 484,
   "metadata": {
    "collapsed": false
   },
   "outputs": [
    {
     "name": "stdout",
     "output_type": "stream",
     "text": [
      "(10000, 43574)\n"
     ]
    }
   ],
   "source": [
    "xx = df.iloc[:10000,13:39]\n",
    "oh = pd.get_dummies(xx)\n",
    "print oh.shape"
   ]
  },
  {
   "cell_type": "code",
   "execution_count": 459,
   "metadata": {
    "collapsed": false
   },
   "outputs": [
    {
     "name": "stderr",
     "output_type": "stream",
     "text": [
      "/Users/fnokeke/dev/cs5304/ds-env/lib/python2.7/site-packages/ipykernel/__main__.py:20: FutureWarning: the 'outtype' keyword is deprecated, use 'orient' instead\n"
     ]
    },
    {
     "name": "stdout",
     "output_type": "stream",
     "text": [
      "(100000, 6)\n"
     ]
    },
    {
     "data": {
      "text/html": [
       "<div>\n",
       "<table border=\"1\" class=\"dataframe\">\n",
       "  <thead>\n",
       "    <tr style=\"text-align: right;\">\n",
       "      <th></th>\n",
       "      <th>f6</th>\n",
       "      <th>f1</th>\n",
       "      <th>f2</th>\n",
       "      <th>f3</th>\n",
       "      <th>f4</th>\n",
       "      <th>f5</th>\n",
       "    </tr>\n",
       "  </thead>\n",
       "  <tbody>\n",
       "    <tr>\n",
       "      <th>0</th>\n",
       "      <td>8</td>\n",
       "      <td>2</td>\n",
       "      <td>0</td>\n",
       "      <td>44</td>\n",
       "      <td>1</td>\n",
       "      <td>102</td>\n",
       "    </tr>\n",
       "    <tr>\n",
       "      <th>1</th>\n",
       "      <td>89</td>\n",
       "      <td>2</td>\n",
       "      <td>0</td>\n",
       "      <td>1</td>\n",
       "      <td>14</td>\n",
       "      <td>767</td>\n",
       "    </tr>\n",
       "    <tr>\n",
       "      <th>2</th>\n",
       "      <td>NaN</td>\n",
       "      <td>NaN</td>\n",
       "      <td>893</td>\n",
       "      <td>NaN</td>\n",
       "      <td>NaN</td>\n",
       "      <td>4392</td>\n",
       "    </tr>\n",
       "    <tr>\n",
       "      <th>3</th>\n",
       "      <td>0</td>\n",
       "      <td>3</td>\n",
       "      <td>-1</td>\n",
       "      <td>NaN</td>\n",
       "      <td>0</td>\n",
       "      <td>2</td>\n",
       "    </tr>\n",
       "    <tr>\n",
       "      <th>4</th>\n",
       "      <td>NaN</td>\n",
       "      <td>NaN</td>\n",
       "      <td>-1</td>\n",
       "      <td>NaN</td>\n",
       "      <td>NaN</td>\n",
       "      <td>12824</td>\n",
       "    </tr>\n",
       "  </tbody>\n",
       "</table>\n",
       "</div>"
      ],
      "text/plain": [
       "   f6  f1   f2  f3  f4     f5\n",
       "0   8   2    0  44   1    102\n",
       "1  89   2    0   1  14    767\n",
       "2 NaN NaN  893 NaN NaN   4392\n",
       "3   0   3   -1 NaN   0      2\n",
       "4 NaN NaN   -1 NaN NaN  12824"
      ]
     },
     "execution_count": 459,
     "metadata": {},
     "output_type": "execute_result"
    }
   ],
   "source": [
    "#cols_to_keep = all_columns[:13] + all_columns[17:24]\n",
    "df_onehot = encode_onehot(xx, ['f1', 'f2', 'f3', 'f4', 'f5'])\n",
    "print df_onehot.shape\n",
    "df_onehot.head()"
   ]
  },
  {
   "cell_type": "code",
   "execution_count": 447,
   "metadata": {
    "collapsed": true
   },
   "outputs": [],
   "source": [
    "from sklearn.feature_extraction import DictVectorizer\n",
    " \n",
    "def encode_onehot(df, cols):\n",
    "    \"\"\"\n",
    "    One-hot encoding is applied to columns specified in a pandas DataFrame.\n",
    "    \n",
    "    Modified from: https://gist.github.com/kljensen/5452382\n",
    "    \n",
    "    Details:\n",
    "    \n",
    "    http://en.wikipedia.org/wiki/One-hot\n",
    "    http://scikit-learn.org/stable/modules/generated/sklearn.preprocessing.OneHotEncoder.html\n",
    "    \n",
    "    @param df pandas DataFrame\n",
    "    @param cols a list of columns to encode\n",
    "    @return a DataFrame with one-hot encoding\n",
    "    \"\"\"\n",
    "    vec = DictVectorizer()\n",
    "    \n",
    "    vec_data = pd.DataFrame(vec.fit_transform(df[cols].to_dict(outtype='records')).toarray())\n",
    "    vec_data.columns = vec.get_feature_names()\n",
    "    vec_data.index = df.index\n",
    "    \n",
    "    df = df.drop(cols, axis=1)\n",
    "    df = df.join(vec_data)\n",
    "    return df\n"
   ]
  },
  {
   "cell_type": "markdown",
   "metadata": {},
   "source": [
    "# Model and Evaluation"
   ]
  },
  {
   "cell_type": "code",
   "execution_count": null,
   "metadata": {
    "collapsed": true
   },
   "outputs": [],
   "source": [
    "X = df_onehot\n",
    "y = test_data.index.values"
   ]
  },
  {
   "cell_type": "markdown",
   "metadata": {},
   "source": [
    "### Logistic Regression"
   ]
  },
  {
   "cell_type": "code",
   "execution_count": null,
   "metadata": {
    "collapsed": false
   },
   "outputs": [],
   "source": [
    "from sklearn.linear_mode import LogisticRegression\n",
    "model = LogisticRegression()\n",
    "model.fit(X,y)"
   ]
  },
  {
   "cell_type": "code",
   "execution_count": null,
   "metadata": {
    "collapsed": false
   },
   "outputs": [],
   "source": [
    "model.score(X,y)"
   ]
  },
  {
   "cell_type": "markdown",
   "metadata": {},
   "source": [
    "### Split up the data set into test and training sets"
   ]
  },
  {
   "cell_type": "code",
   "execution_count": null,
   "metadata": {
    "collapsed": false
   },
   "outputs": [],
   "source": [
    "from sklearn.cross_validation import train_test_split\n",
    "x_train, x_test, y_train, y_test = train_test_split(X, y, test_size=0.3, random_state=1)\n",
    "testLogRModel = LogisticRegression()\n",
    "testLogRModel.fit(x_train, y_train)"
   ]
  },
  {
   "cell_type": "code",
   "execution_count": null,
   "metadata": {
    "collapsed": false
   },
   "outputs": [],
   "source": [
    "testLogRModel.score(X,y)"
   ]
  },
  {
   "cell_type": "markdown",
   "metadata": {},
   "source": [
    "### Predict class labels for the test set"
   ]
  },
  {
   "cell_type": "code",
   "execution_count": null,
   "metadata": {
    "collapsed": false
   },
   "outputs": [],
   "source": [
    "predicted = testLogRModel.predict(x_test)\n",
    "print predicted"
   ]
  },
  {
   "cell_type": "markdown",
   "metadata": {},
   "source": [
    "### AUC score from ROC"
   ]
  },
  {
   "cell_type": "code",
   "execution_count": null,
   "metadata": {
    "collapsed": false
   },
   "outputs": [],
   "source": [
    "from sklearn import metrics\n",
    "print \"accuracy:\", metrics.accuracy_score(y_test, predicted)\n",
    "# print \"auc:\", metrics.roc_auc_score(y_test, predicted)"
   ]
  },
  {
   "cell_type": "markdown",
   "metadata": {},
   "source": [
    "### Perform cross validation using n folds"
   ]
  },
  {
   "cell_type": "code",
   "execution_count": null,
   "metadata": {
    "collapsed": false
   },
   "outputs": [],
   "source": [
    "from sklearn.cross_validation import cross_val_score\n",
    "#n = 5\n",
    "#scores = cross_val_score(LogisticRegression(), X, y, scoring='accuracy')\n",
    "#print scores\n",
    "#print scores.mean()"
   ]
  },
  {
   "cell_type": "markdown",
   "metadata": {},
   "source": [
    "### Random Forest Classifier"
   ]
  },
  {
   "cell_type": "code",
   "execution_count": null,
   "metadata": {
    "collapsed": false
   },
   "outputs": [],
   "source": [
    "from sklearn.ensemble import RandomForestClassifier\n",
    "clf_random_forest = RandomForestClassifier(n_estimators=10)\n",
    "clf_random_forest.fit(X,y)"
   ]
  },
  {
   "cell_type": "code",
   "execution_count": null,
   "metadata": {
    "collapsed": false,
    "scrolled": true
   },
   "outputs": [],
   "source": [
    "clf_random_forest.score(X,y)"
   ]
  },
  {
   "cell_type": "code",
   "execution_count": null,
   "metadata": {
    "collapsed": true
   },
   "outputs": [],
   "source": []
  }
 ],
 "metadata": {
  "kernelspec": {
   "display_name": "Python 2",
   "language": "python",
   "name": "python2"
  },
  "language_info": {
   "codemirror_mode": {
    "name": "ipython",
    "version": 2
   },
   "file_extension": ".py",
   "mimetype": "text/x-python",
   "name": "python",
   "nbconvert_exporter": "python",
   "pygments_lexer": "ipython2",
   "version": "2.7.10"
  }
 },
 "nbformat": 4,
 "nbformat_minor": 0
}
