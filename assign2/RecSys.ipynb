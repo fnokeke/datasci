{
 "cells": [
  {
   "cell_type": "markdown",
   "metadata": {},
   "source": [
    "# Recommendation System Datasets"
   ]
  },
  {
   "cell_type": "markdown",
   "metadata": {
    "collapsed": true
   },
   "source": [
    "This notebook uses the following datasets:\n",
    "\n",
    "- [MovieLens 10M data set](http://grouplens.org/datasets/movielens/10m/)\n",
    "- [MovieLens 22M data set](http://grouplens.org/datasets/movielens/latest/)\n",
    "- [Million song data set](http://labrosa.ee.columbia.edu/millionsong/tasteprofile)"
   ]
  },
  {
   "cell_type": "code",
   "execution_count": 336,
   "metadata": {
    "collapsed": true
   },
   "outputs": [],
   "source": [
    "# TODO: rename parse_rating to parseRating\n",
    "# TODO: add settings.py file"
   ]
  },
  {
   "cell_type": "markdown",
   "metadata": {},
   "source": [
    "## Split dataset into 60-20-20 train-validate-test partitions"
   ]
  },
  {
   "cell_type": "code",
   "execution_count": 4,
   "metadata": {
    "collapsed": true
   },
   "outputs": [],
   "source": [
    "import os\n",
    "\n",
    "def exists(filepath):\n",
    "    return os.path.exists(filepath)"
   ]
  },
  {
   "cell_type": "code",
   "execution_count": 5,
   "metadata": {
    "collapsed": false
   },
   "outputs": [
    {
     "name": "stdout",
     "output_type": "stream",
     "text": [
      "Already created files: train60.dat, validation20.dat, test20.dat\n"
     ]
    }
   ],
   "source": [
    "if (exists('ml-10M100K/train60.dat') and exists('ml-10M100K/validation20.dat') and exists('ml-10M100K/test20.dat')):\n",
    "    print \"Already created files: train60.dat, validation20.dat, test20.dat\"    \n",
    "\n",
    "else:\n",
    "    # sort by timestamp (4th column)\n",
    "    print 'sorting file...'\n",
    "    !sort -t ':' -k4 ml-10M100K/ratings.dat > ml-10M100K/new_ratings.dat \n",
    "    print \"sorting complete.\"\n",
    "    \n",
    "    # split into 5 parts of 2 million each: train(3 parts), validation (1 part), test (1 part)\n",
    "    print \"splitting file...\"\n",
    "    !split -l 2000000 ml-10M100K/new_ratings.dat ff\n",
    "    !cat ffaa ffab ffac > ml-10M100K/train60.dat\n",
    "    !mv ffad ml-10M100K/validation20.dat\n",
    "    !mv ffae ml-10M100K/test20.dat\n",
    "    \n",
    "    # remove tmp files used to create partitions\n",
    "    !rm new_ratings.dat ff*\n",
    "    print \"splitting complete.\"    \n",
    "    print \"Newly created files: train60.dat, validation20.dat, test20.dat\""
   ]
  },
  {
   "cell_type": "code",
   "execution_count": 88,
   "metadata": {
    "collapsed": false
   },
   "outputs": [
    {
     "name": "stdout",
     "output_type": "stream",
     "text": [
      "Help on method train in module pyspark.mllib.recommendation:\n",
      "\n",
      "train(cls, ratings, rank, iterations=5, lambda_=0.01, blocks=-1, nonnegative=False, seed=None) method of __builtin__.type instance\n",
      "\n"
     ]
    }
   ],
   "source": [
    "help(ALS.train)"
   ]
  },
  {
   "cell_type": "markdown",
   "metadata": {},
   "source": [
    "### Meaning of parameters\n",
    "\n",
    "- numBlocks is the number of blocks used to parallelize computation (set to -1 to auto-configure).\n",
    "- ***rank*** is the number of latent factors in the model.\n",
    "- iterations is the number of iterations to run.\n",
    "- ***lambda*** specifies the regularization parameter in ALS.\n",
    "- implicitPrefs specifies whether to use the explicit feedback ALS variant or one adapted for implicit feedback data.\n",
    "- alpha is a parameter applicable to the implicit feedback variant of ALS that governs the baseline confidence in preference observations.\n"
   ]
  },
  {
   "cell_type": "markdown",
   "metadata": {},
   "source": [
    "# Using train data, learn ALS model"
   ]
  },
  {
   "cell_type": "code",
   "execution_count": 2,
   "metadata": {
    "collapsed": false
   },
   "outputs": [],
   "source": [
    "import contextlib\n",
    "from math import sqrt\n",
    "from operator import add\n",
    "import sys\n",
    "from pyspark.mllib.recommendation import ALS"
   ]
  },
  {
   "cell_type": "code",
   "execution_count": 16,
   "metadata": {
    "collapsed": false
   },
   "outputs": [],
   "source": [
    "def parse_rating(line):\n",
    "    \"\"\"\n",
    "    Parses a rating record that's in MovieLens format.\n",
    "    \n",
    "    :param str line: userId::movieId::rating::timestamp\n",
    "    \"\"\"\n",
    "    fields = line.strip().split(\"::\")\n",
    "\n",
    "    return (int(fields[0]),   # User ID\n",
    "            int(fields[1]),   # Movie ID\n",
    "            float(fields[2])) # Rating\n",
    "\n",
    "\n",
    "def compute_rmse(model, data, dataCount):\n",
    "    \"\"\"\n",
    "    Compute RMSE (Root Mean Squared Error).\n",
    "    :param object model\n",
    "    :param list data\n",
    "    :param integer validation_count\n",
    "    \"\"\"\n",
    "    predictions = model.predictAll(data.map(lambda x: (x[0], x[1]))) #userId and #movieId\n",
    "    predictionsAndRatings = \\\n",
    "        predictions.map(lambda x: ((x[0], x[1]), x[2])) \\\n",
    "                   .join(data.map(lambda x: ((x[0], x[1]), x[2]))) \\\n",
    "                   .values()\n",
    "    return sqrt(\n",
    "        predictionsAndRatings.map(\n",
    "            lambda x: (x[0] - x[1]) ** 2\n",
    "        ).reduce(add) / float(dataCount)\n",
    "    )"
   ]
  },
  {
   "cell_type": "code",
   "execution_count": 35,
   "metadata": {
    "collapsed": false
   },
   "outputs": [],
   "source": [
    "training = sc.textFile('ml-10M100K/train60.dat') \\\n",
    "         .filter(lambda x: x and len(x.split('::')) == 4) \\\n",
    "         .map(parse_rating)"
   ]
  },
  {
   "cell_type": "code",
   "execution_count": 36,
   "metadata": {
    "collapsed": true
   },
   "outputs": [],
   "source": [
    "validation = sc.textFile('ml-10M100K/validation20.dat') \\\n",
    "         .filter(lambda x: x and len(x.split('::')) == 4) \\\n",
    "         .map(parse_rating)"
   ]
  },
  {
   "cell_type": "code",
   "execution_count": 37,
   "metadata": {
    "collapsed": true
   },
   "outputs": [],
   "source": [
    "test = sc.textFile('ml-10M100K/test20.dat') \\\n",
    "         .filter(lambda x: x and len(x.split('::')) == 4) \\\n",
    "         .map(parse_rating)"
   ]
  },
  {
   "cell_type": "code",
   "execution_count": 38,
   "metadata": {
    "collapsed": false
   },
   "outputs": [
    {
     "data": {
      "text/plain": [
       "6000000"
      ]
     },
     "execution_count": 38,
     "metadata": {},
     "output_type": "execute_result"
    }
   ],
   "source": [
    "trainCount = training.count()\n",
    "trainCount"
   ]
  },
  {
   "cell_type": "code",
   "execution_count": 39,
   "metadata": {
    "collapsed": false
   },
   "outputs": [
    {
     "data": {
      "text/plain": [
       "2000000"
      ]
     },
     "execution_count": 39,
     "metadata": {},
     "output_type": "execute_result"
    }
   ],
   "source": [
    "validationCount = validation.count()\n",
    "validationCount"
   ]
  },
  {
   "cell_type": "code",
   "execution_count": 40,
   "metadata": {
    "collapsed": false
   },
   "outputs": [
    {
     "data": {
      "text/plain": [
       "2000000"
      ]
     },
     "execution_count": 40,
     "metadata": {},
     "output_type": "execute_result"
    }
   ],
   "source": [
    "testCount = test.count()\n",
    "testCount"
   ]
  },
  {
   "cell_type": "code",
   "execution_count": 89,
   "metadata": {
    "collapsed": false
   },
   "outputs": [
    {
     "data": {
      "text/plain": [
       "[(37746, 3409, 0.5), (37746, 175, 0.5), (51778, 5430, 0.5)]"
      ]
     },
     "execution_count": 89,
     "metadata": {},
     "output_type": "execute_result"
    }
   ],
   "source": [
    "training.take(3)"
   ]
  },
  {
   "cell_type": "code",
   "execution_count": 94,
   "metadata": {
    "collapsed": false
   },
   "outputs": [
    {
     "data": {
      "text/plain": [
       "[(6352, 6787, 4.0), (26571, 1580, 4.0), (26571, 2115, 4.0)]"
      ]
     },
     "execution_count": 94,
     "metadata": {},
     "output_type": "execute_result"
    }
   ],
   "source": [
    "validation.take(3)"
   ]
  },
  {
   "cell_type": "code",
   "execution_count": 95,
   "metadata": {
    "collapsed": false
   },
   "outputs": [
    {
     "data": {
      "text/plain": [
       "[(5337, 296, 4.0), (5337, 307, 4.0), (32329, 3745, 4.0)]"
      ]
     },
     "execution_count": 95,
     "metadata": {},
     "output_type": "execute_result"
    }
   ],
   "source": [
    "test.take(3)"
   ]
  },
  {
   "cell_type": "markdown",
   "metadata": {},
   "source": [
    "### Train ALS model using different regularization parameter and latent factors"
   ]
  },
  {
   "cell_type": "code",
   "execution_count": 41,
   "metadata": {
    "collapsed": false
   },
   "outputs": [
    {
     "name": "stdout",
     "output_type": "stream",
     "text": [
      "Rank=10, Lambda=0.01, RMSE=1.06049775091\n",
      "Rank=10, Lambda=0.1, RMSE=1.10979440812\n",
      "Rank=10, Lambda=1.0, RMSE=1.95801505852\n",
      "Rank=10, Lambda=10.0, RMSE=3.99960898089\n",
      "Rank=20, Lambda=0.01, RMSE=1.07348413238\n",
      "Rank=20, Lambda=0.1, RMSE=1.14287691247\n",
      "Rank=20, Lambda=1.0, RMSE=1.95987810731\n",
      "Rank=20, Lambda=10.0, RMSE=3.99960898089\n",
      "Rank=30, Lambda=0.01, RMSE=1.08488028136\n",
      "Rank=30, Lambda=0.1, RMSE=1.1275414034\n",
      "Rank=30, Lambda=1.0, RMSE=1.95889910186\n",
      "Rank=30, Lambda=10.0, RMSE=3.99960898089\n",
      "Rank=40, Lambda=0.01, RMSE=1.08504936949\n",
      "Rank=40, Lambda=0.1, RMSE=1.16572274978\n",
      "Rank=40, Lambda=1.0, RMSE=1.95928678985\n",
      "Rank=40, Lambda=10.0, RMSE=3.99960898089\n",
      "Rank=50, Lambda=0.01, RMSE=1.10281105899\n",
      "Rank=50, Lambda=0.1, RMSE=1.18677347337\n",
      "Rank=50, Lambda=1.0, RMSE=1.95958789238\n",
      "Rank=50, Lambda=10.0, RMSE=3.99960898089\n"
     ]
    }
   ],
   "source": [
    "rank_list = [10, 20, 30, 40, 50] # latent factor\n",
    "lamda_list = [0.01, 0.1, 1.0, 10.0] # regularization parameter\n",
    "iterations = 10\n",
    "chosenModel = None\n",
    "smallestRMSE = 9999999\n",
    "\n",
    "for rank in rank_list:\n",
    "    for lamda in lamda_list:\n",
    "        model = ALS.train(training, rank, iterations, lamda)\n",
    "        rmse = compute_rmse(model, validation, validationCount)\n",
    "        \n",
    "        if rmse < smallestRMSE:\n",
    "            smallestRMSE = rmse\n",
    "            chosenModel = model\n",
    "\n",
    "        print 'Rank={}, Lambda={}, RMSE={}'.format(rank, lamda, rmse)"
   ]
  },
  {
   "cell_type": "code",
   "execution_count": 61,
   "metadata": {
    "collapsed": false
   },
   "outputs": [],
   "source": [
    "chosenModel.save(sc, 'chosenModel')"
   ]
  },
  {
   "cell_type": "code",
   "execution_count": 63,
   "metadata": {
    "collapsed": false
   },
   "outputs": [
    {
     "name": "stdout",
     "output_type": "stream",
     "text": [
      "The smallest RMSE is: 1.06\n"
     ]
    }
   ],
   "source": [
    "print 'The smallest RMSE is:{0: .2f}'.format(smallestRMSE)"
   ]
  },
  {
   "cell_type": "markdown",
   "metadata": {},
   "source": [
    "### Use chosen model with test set"
   ]
  },
  {
   "cell_type": "code",
   "execution_count": 60,
   "metadata": {
    "collapsed": false
   },
   "outputs": [
    {
     "name": "stdout",
     "output_type": "stream",
     "text": [
      "Final error metric using test set = 1.87\n"
     ]
    }
   ],
   "source": [
    "testRMSE = compute_rmse(chosenModel, test, testCount)\n",
    "print 'Final error metric using test set ={0: .2f}'.format(testRMSE)"
   ]
  },
  {
   "cell_type": "markdown",
   "metadata": {
    "collapsed": true
   },
   "source": [
    "### Create ratings file that contains movie ratings for one user"
   ]
  },
  {
   "cell_type": "code",
   "execution_count": 138,
   "metadata": {
    "collapsed": false
   },
   "outputs": [],
   "source": [
    "user01Ratings = sc.textFile('ml-10M100K/ratings.dat')\n",
    "user01Ratings = newRatings.filter(lambda x: x.split('::')[0] == '1') # userId == 1\n",
    "if not exists('ml-10M100K/user01Ratings.dat'):\n",
    "    user01Ratings.saveAsTextFile('ml-10M100K/user01Ratings.dat')"
   ]
  },
  {
   "cell_type": "code",
   "execution_count": 334,
   "metadata": {
    "collapsed": true
   },
   "outputs": [],
   "source": [
    "def generate_recommendations(model, ratingsFile, numRecommended=5):\n",
    "\n",
    "    userMovies = sc.textFile(ratingsFile) \\\n",
    "        .filter(lambda x: x and len(x.split('::')) == 4) \\\n",
    "        .map(parse_rating) \\\n",
    "        .map(lambda x: x[1]).collect()\n",
    "\n",
    "    # get all the rated films that the user has not seen yet\n",
    "    moviesNotSeen = sc.textFile('ml-10M100K/ratings.dat')\\\n",
    "        .filter(lambda x: x and len(x.split('::')) == 4)\\\n",
    "        .map(parse_rating).map(lambda r: (r[1], 1)) \\\n",
    "        .reduceByKey(add).map(lambda r: r[0])\\\n",
    "        .filter(lambda r: r not in userMovies).collect()\n",
    "\n",
    "    candidates = sc.parallelize(moviesNotSeen) \\\n",
    "                .map(lambda x: (x, 1)) \\\n",
    "                .cache()\n",
    "            \n",
    "    predictions = model.predictAll(candidates).collect()\n",
    "    predictions = sorted(predictions, key=lambda x: x[2], reverse=True)[:numRecommended]\n",
    "\n",
    "    movies = ''\n",
    "    with open('ml-10M100K/movies.dat', 'r') as open_file:\n",
    "        movies = {int(line.split('::')[0]): line.split('::')[1]\n",
    "              for line in open_file\n",
    "              if len(line.split('::')) == 3}\n",
    "\n",
    "    recommendations = []\n",
    "    for movieId, _, _ in predictions:\n",
    "        if movieId in movies:\n",
    "            recommendations.append(movies[movieId]) \n",
    " \n",
    "    return recommendations"
   ]
  },
  {
   "cell_type": "code",
   "execution_count": 335,
   "metadata": {
    "collapsed": false
   },
   "outputs": [
    {
     "data": {
      "text/plain": [
       "['Last House on the Left, The (1972)',\n",
       " 'Innocents, The (1961)',\n",
       " 'Seed of Chucky (2004)',\n",
       " 'Telling Lies in America (1997)',\n",
       " \"My Life and Times With Antonin Artaud (En compagnie d'Antonin Artaud) (1993)\"]"
      ]
     },
     "execution_count": 335,
     "metadata": {},
     "output_type": "execute_result"
    }
   ],
   "source": [
    "ratingsFile = 'ml-10M100K/user01Ratings.dat'\n",
    "generate_recommendations(chosenModel, ratingsFile)"
   ]
  },
  {
   "cell_type": "markdown",
   "metadata": {},
   "source": [
    "### Average rating of all ratings in the system"
   ]
  },
  {
   "cell_type": "code",
   "execution_count": 15,
   "metadata": {
    "collapsed": false
   },
   "outputs": [
    {
     "name": "stdout",
     "output_type": "stream",
     "text": [
      "system average rating: 3.51242193292.\n"
     ]
    }
   ],
   "source": [
    "avgRating = sc.textFile('ml-10M100K/ratings.dat').map(parse_rating).map(lambda x: x[2]).collect()\n",
    "avgRating = sum(avgRating) / float(len(avgRating))\n",
    "print \"system average rating: {}.\".format(avgRating)"
   ]
  },
  {
   "cell_type": "markdown",
   "metadata": {},
   "source": [
    "### Convert to binary ratings"
   ]
  },
  {
   "cell_type": "code",
   "execution_count": 31,
   "metadata": {
    "collapsed": false
   },
   "outputs": [
    {
     "data": {
      "text/plain": [
       "[(37746, 3409, 0),\n",
       " (37746, 175, 0),\n",
       " (51778, 5430, 0),\n",
       " (51778, 5249, 0),\n",
       " (51778, 5628, 0),\n",
       " (51778, 5839, 0),\n",
       " (2134, 2260, 0),\n",
       " (2134, 6128, 0),\n",
       " (2134, 4654, 0),\n",
       " (2134, 4132, 0),\n",
       " (2134, 4915, 0),\n",
       " (2134, 204, 0),\n",
       " (2134, 1627, 0),\n",
       " (2134, 5962, 0),\n",
       " (2134, 731, 0),\n",
       " (2134, 5768, 0),\n",
       " (2134, 2024, 0),\n",
       " (2134, 3698, 0),\n",
       " (2134, 5246, 0),\n",
       " (2134, 2668, 0),\n",
       " (2134, 6153, 0),\n",
       " (2134, 4807, 0),\n",
       " (2134, 427, 0),\n",
       " (2134, 2881, 0),\n",
       " (2134, 4310, 0),\n",
       " (2134, 2379, 0),\n",
       " (2134, 762, 0),\n",
       " (2134, 2376, 0),\n",
       " (2134, 2445, 0),\n",
       " (2134, 1479, 0)]"
      ]
     },
     "execution_count": 31,
     "metadata": {},
     "output_type": "execute_result"
    }
   ],
   "source": [
    "sc.textFile('ml-10M100K/train60.dat').map(parse_rating).map(lambda (u,m,r): (u,m,1) if r>0 else (u,m,0)).take(30)"
   ]
  },
  {
   "cell_type": "code",
   "execution_count": 41,
   "metadata": {
    "collapsed": false
   },
   "outputs": [
    {
     "data": {
      "text/plain": [
       "[]"
      ]
     },
     "execution_count": 41,
     "metadata": {},
     "output_type": "execute_result"
    }
   ],
   "source": [
    "sc.textFile('ml-10M100K/train60.dat').map(parse_rating).filter(lambda (u,m,r): not u or not m or not r).take(3)"
   ]
  },
  {
   "cell_type": "code",
   "execution_count": null,
   "metadata": {
    "collapsed": true
   },
   "outputs": [],
   "source": []
  },
  {
   "cell_type": "code",
   "execution_count": null,
   "metadata": {
    "collapsed": true
   },
   "outputs": [],
   "source": []
  },
  {
   "cell_type": "code",
   "execution_count": null,
   "metadata": {
    "collapsed": true
   },
   "outputs": [],
   "source": [
    "As a user, I rate 5 movies and my average rating is 3 stars out of 5\n",
    "my average deviation is 1 star because I rate between 2 to 4 stars in general\n",
    "\n",
    "combine both my mean and my deviation might help get an idea about my actual rating"
   ]
  },
  {
   "cell_type": "code",
   "execution_count": null,
   "metadata": {
    "collapsed": true
   },
   "outputs": [],
   "source": [
    "System average is average rating for an item by all users in that system so for 5 movies it is:\n",
    "    - avg rating for titanic\n",
    "    - avg rating for fast and furious\n",
    "    - avg rating for the Rock\n",
    "    - avg rating for big mama\n",
    "    - avg rating for underworld\n",
    "    \n",
    "    - so get every rating for a single movie and then do your average on that\n",
    "    - (userid, movieId, rating)\n",
    "    - remove userid\n",
    "    - group by movieId and get\n",
    "    - movieId 5000:\n",
    "        = 4.00\n",
    "        = 2.00\n",
    "        = 4.00\n",
    "        = 3.00\n",
    "    then add all the groupby and divide by count of groupBy to get average rating for that movie\n",
    "    \n",
    "        "
   ]
  },
  {
   "cell_type": "code",
   "execution_count": null,
   "metadata": {
    "collapsed": true
   },
   "outputs": [],
   "source": []
  }
 ],
 "metadata": {
  "kernelspec": {
   "display_name": "Python 2",
   "language": "python",
   "name": "python2"
  },
  "language_info": {
   "codemirror_mode": {
    "name": "ipython",
    "version": 2
   },
   "file_extension": ".py",
   "mimetype": "text/x-python",
   "name": "python",
   "nbconvert_exporter": "python",
   "pygments_lexer": "ipython2",
   "version": "2.7.10"
  }
 },
 "nbformat": 4,
 "nbformat_minor": 0
}
