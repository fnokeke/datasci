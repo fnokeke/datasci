{
 "cells": [
  {
   "cell_type": "code",
   "execution_count": 10,
   "metadata": {
    "collapsed": false
   },
   "outputs": [],
   "source": [
    "import random\n",
    "import os.path\n",
    "import pandas as pd\n",
    "import numpy as np\n",
    "import csv\n",
    "\n",
    "from sklearn import metrics\n",
    "from sklearn.linear_model import LogisticRegression\n",
    "from sklearn.ensemble import RandomForestClassifier\n",
    "from sklearn.naive_bayes import GaussianNB\n",
    "\n",
    "#from pyspark.sql import SQLContext, Row\n",
    "#from pyspark.sql.types import *\n",
    "\n",
    "%matplotlib inline\n",
    "import matplotlib.pyplot as plt\n",
    "plt.style.use('fivethirtyeight')"
   ]
  },
  {
   "cell_type": "code",
   "execution_count": 2,
   "metadata": {
    "collapsed": true
   },
   "outputs": [],
   "source": [
    "def exists(filepath):\n",
    "    return os.path.exists(filepath)"
   ]
  },
  {
   "cell_type": "markdown",
   "metadata": {},
   "source": [
    "# Split 48 million rows to 10 million(training) & 38 million(testing)"
   ]
  },
  {
   "cell_type": "code",
   "execution_count": 3,
   "metadata": {
    "collapsed": false
   },
   "outputs": [
    {
     "name": "stdout",
     "output_type": "stream",
     "text": [
      "train10M.txt and test38M.txt already created before.\n"
     ]
    }
   ],
   "source": [
    "if (exists('train10M.txt') and exists('test38M.txt')):\n",
    "    print \"train10M.txt and test38M.txt already created before.\"\n",
    "else:\n",
    "    !split -l 2000000 train.txt ff\n",
    "    !cat ffaa ffat ffaf ffaq ffaj > train10M.txt\n",
    "    !rm ffaa ffat ffaf ffaq ffaj\n",
    "    !cat ff* > test38M.txt\n",
    "    !rm ff*\n",
    "    print \"Newly created files: train10M.txt and test38M.txt.\""
   ]
  },
  {
   "cell_type": "markdown",
   "metadata": {},
   "source": [
    "# Split train10M data into 3 partitions"
   ]
  },
  {
   "cell_type": "code",
   "execution_count": 4,
   "metadata": {
    "collapsed": false
   },
   "outputs": [
    {
     "name": "stdout",
     "output_type": "stream",
     "text": [
      "train5M.txt, validation2M.txt, test3M.txt already created before.\n"
     ]
    }
   ],
   "source": [
    "if (exists('train5M.txt') and \n",
    "    exists('validation2M.txt') and \n",
    "    exists('test3M.txt')):\n",
    "    print \"train5M.txt, validation2M.txt, test3M.txt already created before.\"\n",
    "else:\n",
    "    !split -l 1000000 train10M.txt ff\n",
    "    !cat ffaa ffaj ffad ffaf ffah > train5M.txt    \n",
    "    !cat ffai ffae > validation2M.txt\n",
    "    !cat ffac ffag ffab > test3M.txt\n",
    "    !rm ff*\n",
    "    print \"Newly created files: train5M.txt, validation2M.txt, test3M.txt.\""
   ]
  },
  {
   "cell_type": "markdown",
   "metadata": {},
   "source": [
    "# Plot histograms and store images"
   ]
  },
  {
   "cell_type": "code",
   "execution_count": 19,
   "metadata": {
    "collapsed": false
   },
   "outputs": [
    {
     "name": "stdout",
     "output_type": "stream",
     "text": [
      "Histogram plot completed!\n"
     ]
    }
   ],
   "source": [
    "for col in range(1,40):\n",
    "    filepath = 'histo-file/f%d.txt' % col\n",
    "    imgpath = 'histo-img/f%d.png' % col\n",
    "    title = 'feature %d' % col\n",
    "\n",
    "    histo_df = pd.read_csv(filepath, header=None, names=[\"val\", \"freq\"])\n",
    "    ax = histo_df.plot(x='val', y='freq', logy='True', title=title, xlim=(0), figsize=(25,10))\n",
    "    fig = ax.get_figure()\n",
    "    fig.savefig(imgpath)\n",
    "print \"Histogram plot completed!\""
   ]
  },
  {
   "cell_type": "markdown",
   "metadata": {},
   "source": [
    "# Select categorical features that should be kept out of all 26 possible cases"
   ]
  },
  {
   "cell_type": "code",
   "execution_count": 20,
   "metadata": {
    "collapsed": false
   },
   "outputs": [
    {
     "data": {
      "text/plain": [
       "14"
      ]
     },
     "execution_count": 20,
     "metadata": {},
     "output_type": "execute_result"
    }
   ],
   "source": [
    "selected_categ_cols = [14,15,18,19,21,22,26,27,30,32,33,35,36,38]\n",
    "len(selected_categ_cols)"
   ]
  },
  {
   "cell_type": "markdown",
   "metadata": {},
   "source": [
    "# Normalize integer cols and compute rate-value on categorical cols"
   ]
  },
  {
   "cell_type": "code",
   "execution_count": 24,
   "metadata": {
    "collapsed": false
   },
   "outputs": [],
   "source": [
    "def get_train_xy(mdf, selected_categorical_cols):\n",
    "    \"\"\"\n",
    "        normalize integer columns of dataframe and perform weighted freq count on selected categorical columns\n",
    "        @param mdf: massive/large dataframe to be operated on (cols 1-13 are assumed to be integer columns)\n",
    "        @param selected_categ_cols: hashed string columns to be converted to float values\n",
    "        @return X: dataframe same as mdf but with 1 less column than mdf\n",
    "        @return y: 1D array\n",
    "    \"\"\"\n",
    "    int_cols = range(1,14)\n",
    "    cols_to_keep = int_cols + selected_categorical_cols  \n",
    "    y = mdf[0].values\n",
    "    X = mdf[cols_to_keep].fillna(0)\n",
    "    print \"X and y extracted...\"\n",
    "    \n",
    "    # normalize integers features\n",
    "    X[int_cols] = X[int_cols].apply(lambda x: (x - x.min()) / (x.max() - x.min()))\n",
    "    print \"X normalization complete...\"\n",
    "    \n",
    "    # compute weighted freq: each column entry is freq/cumulative_freq\n",
    "    cum_freq = len(mdf) * 1.0\n",
    "    for col in selected_categorical_cols:\n",
    "        freq = m_count_distinct(X[col].values)\n",
    "        X[col] = X[col].apply(lambda x: freq.get(x)/cum_freq) \n",
    "    print \"Data preparation complete!\"\n",
    "\n",
    "    return X, y\n",
    "\n",
    "def m_count_distinct(col):\n",
    "    \"\"\"\n",
    "        count distinct values in all columns\n",
    "        @param col: numpy 1D array\n",
    "        @return: dictionary of value, freq\n",
    "    \"\"\"\n",
    "    d = {}\n",
    "    for x in list(col):\n",
    "        if type(x) == np.float64 and np.isnan(x):\n",
    "            k = 'nan-' + col\n",
    "            d[k] = d.get(k, 0) + 1\n",
    "        else:\n",
    "            d[x] = d.get(x, 0) + 1\n",
    "    return d\n",
    "\n",
    "def score_higher_freq(y):\n",
    "    \"\"\"\n",
    "        accuracy score for baseline method that always predicts the value with higher frequency\n",
    "        @param y: 1D array\n",
    "        @return: float value between 0.0 and 1.0\n",
    "    \"\"\"\n",
    "    d = {}\n",
    "    for i in y:\n",
    "        d[i] = d.get(i,0) + 1\n",
    "    return max(d.values())/float(len(y))"
   ]
  },
  {
   "cell_type": "markdown",
   "metadata": {},
   "source": [
    "# Prepare training and validation data"
   ]
  },
  {
   "cell_type": "code",
   "execution_count": 25,
   "metadata": {
    "collapsed": false
   },
   "outputs": [
    {
     "name": "stdout",
     "output_type": "stream",
     "text": [
      "X and y extracted...\n",
      "X normalization complete...\n",
      "Data preparation complete!\n"
     ]
    }
   ],
   "source": [
    "df_train = pd.read_table('train5M.txt', header=None)\n",
    "X_train, y_train = get_train_xy(df_train, selected_categ_cols)"
   ]
  },
  {
   "cell_type": "code",
   "execution_count": 26,
   "metadata": {
    "collapsed": false
   },
   "outputs": [
    {
     "name": "stdout",
     "output_type": "stream",
     "text": [
      "X and y extracted...\n",
      "X normalization complete...\n",
      "Data preparation complete!\n"
     ]
    }
   ],
   "source": [
    "df_va = pd.read_table('validation2M.txt', header=None)\n",
    "X_va, y_va = get_train_xy(df_va, selected_categ_cols)"
   ]
  },
  {
   "cell_type": "markdown",
   "metadata": {},
   "source": [
    "# Compute baseline score that always predicts value with higher freq"
   ]
  },
  {
   "cell_type": "code",
   "execution_count": 27,
   "metadata": {
    "collapsed": false
   },
   "outputs": [
    {
     "name": "stdout",
     "output_type": "stream",
     "text": [
      "Baseline score: 0.7459995\n"
     ]
    }
   ],
   "source": [
    "print \"Baseline score:\", score_higher_freq(y_va)"
   ]
  },
  {
   "cell_type": "markdown",
   "metadata": {},
   "source": [
    "# Fit models and predict"
   ]
  },
  {
   "cell_type": "code",
   "execution_count": 28,
   "metadata": {
    "collapsed": false
   },
   "outputs": [
    {
     "data": {
      "text/plain": [
       "GaussianNB()"
      ]
     },
     "execution_count": 28,
     "metadata": {},
     "output_type": "execute_result"
    }
   ],
   "source": [
    "model_NB = GaussianNB()\n",
    "model_NB.fit(X_train, y_train)\n",
    "predicted_NB = model_NB.predict(X_va)\n",
    "\n",
    "model_NB"
   ]
  },
  {
   "cell_type": "code",
   "execution_count": 29,
   "metadata": {
    "collapsed": false
   },
   "outputs": [
    {
     "data": {
      "text/plain": [
       "LogisticRegression(C=1.0, class_weight=None, dual=False, fit_intercept=True,\n",
       "          intercept_scaling=1, max_iter=100, multi_class='ovr', n_jobs=1,\n",
       "          penalty='l2', random_state=None, solver='liblinear', tol=0.0001,\n",
       "          verbose=0, warm_start=False)"
      ]
     },
     "execution_count": 29,
     "metadata": {},
     "output_type": "execute_result"
    }
   ],
   "source": [
    "model_LR = LogisticRegression()\n",
    "model_LR.fit(X_train, y_train)\n",
    "predicted_LR = model_LR.predict(X_va)\n",
    "\n",
    "model_LR"
   ]
  },
  {
   "cell_type": "code",
   "execution_count": 34,
   "metadata": {
    "collapsed": false
   },
   "outputs": [
    {
     "data": {
      "text/plain": [
       "RandomForestClassifier(bootstrap=True, class_weight=None, criterion='gini',\n",
       "            max_depth=None, max_features='auto', max_leaf_nodes=None,\n",
       "            min_samples_leaf=1, min_samples_split=2,\n",
       "            min_weight_fraction_leaf=0.0, n_estimators=10, n_jobs=1,\n",
       "            oob_score=False, random_state=None, verbose=0,\n",
       "            warm_start=False)"
      ]
     },
     "execution_count": 34,
     "metadata": {},
     "output_type": "execute_result"
    }
   ],
   "source": [
    "model_RF = RandomForestClassifier(n_estimators=10)\n",
    "model_RF.fit(X_train, y_train)\n",
    "predicted_RF = model_RF.predict(X_va)\n",
    "\n",
    "model_RF"
   ]
  },
  {
   "cell_type": "markdown",
   "metadata": {},
   "source": [
    "# ROC curves, Accuracy scores, AUC scores"
   ]
  },
  {
   "cell_type": "code",
   "execution_count": 36,
   "metadata": {
    "collapsed": false
   },
   "outputs": [
    {
     "data": {
      "image/png": "[encoded data removed]",
      "text/plain": [
       "<matplotlib.figure.Figure at 0x109dc4210>"
      ]
     },
     "metadata": {},
     "output_type": "display_data"
    }
   ],
   "source": [
    "%matplotlib inline\n",
    "\n",
    "y_predictions = {\n",
    "    'Naive Bayes': predicted_NB,\n",
    "    'Logistic Regression': predicted_LR,\n",
    "    'Random Forest': predicted_RF,\n",
    "}\n",
    "\n",
    "fig, axes = plt.subplots(1, len(y_predictions), sharey=True)\n",
    "fig.set_size_inches(15,5)\n",
    "i = 0\n",
    "\n",
    "for title, prediction in y_predictions.items():\n",
    "    accuracy = metrics.accuracy_score(y_va, prediction)\n",
    "    fulltitle = title + ' (accuracy = %0.2f)' % accuracy\n",
    "    fpr, tpr, thresholds = metrics.roc_curve(y_va, prediction, pos_label=1)\n",
    "    auc = metrics.auc(fpr, tpr)\n",
    "    label = 'AUC = %0.2f' % auc\n",
    "\n",
    "    axes[i].plot(fpr, tpr, label=label)\n",
    "    axes[i].set_title(fulltitle)\n",
    "    axes[i].legend(loc='lower right')\n",
    "    i += 1"
   ]
  },
  {
   "cell_type": "markdown",
   "metadata": {},
   "source": [
    "# Test 3M"
   ]
  },
  {
   "cell_type": "code",
   "execution_count": 37,
   "metadata": {
    "collapsed": false
   },
   "outputs": [
    {
     "name": "stdout",
     "output_type": "stream",
     "text": [
      "X and y extracted...\n",
      "X normalization complete...\n",
      "Data preparation complete!\n"
     ]
    }
   ],
   "source": [
    "df_test = pd.read_table('test3M.txt', header=None)\n",
    "X_test, y_test = get_train_xy(df_test, selected_categ_cols)"
   ]
  },
  {
   "cell_type": "code",
   "execution_count": 38,
   "metadata": {
    "collapsed": false
   },
   "outputs": [
    {
     "name": "stdout",
     "output_type": "stream",
     "text": [
      "Test3M accuracy: 0.745243\n",
      "Test3M auc: 0.534841102077\n"
     ]
    }
   ],
   "source": [
    "predicted_test = model_LR.predict(X_test)\n",
    "print \"Test3M accuracy:\", metrics.accuracy_score(y_test, predicted_test)\n",
    "print \"Test3M auc:\", metrics.roc_auc_score(y_test, predicted_test)"
   ]
  },
  {
   "cell_type": "code",
   "execution_count": null,
   "metadata": {
    "collapsed": true
   },
   "outputs": [],
   "source": []
  }
 ],
 "metadata": {
  "kernelspec": {
   "display_name": "Python 2",
   "language": "python",
   "name": "python2"
  },
  "language_info": {
   "codemirror_mode": {
    "name": "ipython",
    "version": 2
   },
   "file_extension": ".py",
   "mimetype": "text/x-python",
   "name": "python",
   "nbconvert_exporter": "python",
   "pygments_lexer": "ipython2",
   "version": "2.7.10"
  }
 },
 "nbformat": 4,
 "nbformat_minor": 0
}
