{
 "cells": [
  {
   "cell_type": "markdown",
   "metadata": {},
   "source": [
    "# Authors\n",
    " - Nwamaka Nzeocha\n",
    " - Fabian Okeke"
   ]
  },
  {
   "cell_type": "markdown",
   "metadata": {},
   "source": [
    "# Recommendation System Datasets"
   ]
  },
  {
   "cell_type": "markdown",
   "metadata": {
    "collapsed": true
   },
   "source": [
    "This notebook uses the following datasets:\n",
    "\n",
    "- [MovieLens 10M data set](http://grouplens.org/datasets/movielens/10m/)\n",
    "- [MovieLens 22M data set](http://grouplens.org/datasets/movielens/latest/)\n",
    "- [Million song data set](http://labrosa.ee.columbia.edu/millionsong/tasteprofile)"
   ]
  },
  {
   "cell_type": "markdown",
   "metadata": {},
   "source": [
    "## Split dataset into 60-20-20 train-validate-test partitions"
   ]
  },
  {
   "cell_type": "code",
   "execution_count": null,
   "metadata": {
    "collapsed": true
   },
   "outputs": [],
   "source": [
    "import os\n",
    "\n",
    "def exists(filepath):\n",
    "    return os.path.exists(filepath)"
   ]
  },
  {
   "cell_type": "code",
   "execution_count": null,
   "metadata": {
    "collapsed": false
   },
   "outputs": [],
   "source": [
    "if (exists('ml-10M100K/train60.dat') and exists('ml-10M100K/validation20.dat') and exists('ml-10M100K/test20.dat')):\n",
    "    print \"Already created files: train60.dat, validation20.dat, test20.dat\"    \n",
    "\n",
    "else:\n",
    "    # sort by timestamp (4th column)\n",
    "    print 'sorting file...'\n",
    "    !sort -t ':' -k4 ml-10M100K/ratings.dat > ml-10M100K/new_ratings.dat \n",
    "    print \"sorting complete.\"\n",
    "    \n",
    "    # split into 5 parts of 2 million each: train(3 parts), validation (1 part), test (1 part)\n",
    "    print \"splitting file...\"\n",
    "    !split -l 2000000 ml-10M100K/new_ratings.dat ff\n",
    "    !cat ffaa ffab ffac > ml-10M100K/train60.dat\n",
    "    !mv ffad ml-10M100K/validation20.dat\n",
    "    !mv ffae ml-10M100K/test20.dat\n",
    "    \n",
    "    # remove tmp files used to create partitions\n",
    "    !rm new_ratings.dat ff*\n",
    "    print \"splitting complete.\"    \n",
    "    print \"Newly created files: train60.dat, validation20.dat, test20.dat\""
   ]
  },
  {
   "cell_type": "code",
   "execution_count": null,
   "metadata": {
    "collapsed": false
   },
   "outputs": [],
   "source": [
    "import contextlib\n",
    "from math import sqrt\n",
    "from operator import add\n",
    "import sys\n",
    "from pyspark.mllib.recommendation import ALS\n",
    "\n",
    "help(ALS.train)"
   ]
  },
  {
   "cell_type": "markdown",
   "metadata": {},
   "source": [
    "### Meaning of parameters\n",
    "\n",
    "- numBlocks is the number of blocks used to parallelize computation (set to -1 to auto-configure).\n",
    "- ***rank*** is the number of latent factors in the model.\n",
    "- iterations is the number of iterations to run.\n",
    "- ***lambda*** specifies the regularization parameter in ALS.\n",
    "- implicitPrefs specifies whether to use the explicit feedback ALS variant or one adapted for implicit feedback data.\n",
    "- alpha is a parameter applicable to the implicit feedback variant of ALS that governs the baseline confidence in preference observations.\n"
   ]
  },
  {
   "cell_type": "markdown",
   "metadata": {},
   "source": [
    "# Using train data, learn ALS model"
   ]
  },
  {
   "cell_type": "code",
   "execution_count": null,
   "metadata": {
    "collapsed": false
   },
   "outputs": [],
   "source": [
    "def parse_rating(line):\n",
    "    \"\"\"\n",
    "    Parses a rating record that's in MovieLens format.\n",
    "    \n",
    "    :param str line: userId::movieId::rating::timestamp\n",
    "    \"\"\"\n",
    "    fields = line.strip().split(\"::\")\n",
    "\n",
    "    return (int(fields[0]),   # User ID\n",
    "            int(fields[1]),   # Movie ID\n",
    "            float(fields[2])) # Rating\n",
    "\n",
    "\n",
    "def compute_rmse(model, data, dataCount, bias=None):\n",
    "    \"\"\"\n",
    "    Compute RMSE (Root Mean Squared Error).\n",
    "    :param object model\n",
    "    :param list data\n",
    "    :param integer validation_count\n",
    "    :biasDict: biased values to be added back\n",
    "    \"\"\"\n",
    "    predictions = model.predictAll(data.map(lambda x: (x[0], x[1]))) #userId and #movieId\n",
    "\n",
    "    if type(bias) == float:\n",
    "        predictions = predictions.map(lambda(u,m,r): (u,m,r+bias))\n",
    "    elif type(bias) == dict:\n",
    "        predictions = predictions.map(lambda(u,m,r): (u,m,r+bias.get(0,0.409)))\n",
    "        \n",
    "    predictionsAndRatings = \\\n",
    "        predictions.map(lambda x: ((x[0], x[1]), x[2])) \\\n",
    "                   .join(data.map(lambda x: ((x[0], x[1]), x[2]))) \\\n",
    "                   .values()\n",
    "    return sqrt(\n",
    "        predictionsAndRatings.map(\n",
    "            lambda x: (x[0] - x[1]) ** 2\n",
    "        ).reduce(add) / float(dataCount)\n",
    "    )"
   ]
  },
  {
   "cell_type": "code",
   "execution_count": null,
   "metadata": {
    "collapsed": false
   },
   "outputs": [],
   "source": [
    "training = sc.textFile('ml-10M100K/train60.dat') \\\n",
    "         .filter(lambda x: x and len(x.split('::')) == 4) \\\n",
    "         .map(parse_rating)"
   ]
  },
  {
   "cell_type": "code",
   "execution_count": null,
   "metadata": {
    "collapsed": true
   },
   "outputs": [],
   "source": [
    "validation = sc.textFile('ml-10M100K/validation20.dat') \\\n",
    "         .filter(lambda x: x and len(x.split('::')) == 4) \\\n",
    "         .map(parse_rating)"
   ]
  },
  {
   "cell_type": "code",
   "execution_count": null,
   "metadata": {
    "collapsed": true
   },
   "outputs": [],
   "source": [
    "test = sc.textFile('ml-10M100K/test20.dat') \\\n",
    "         .filter(lambda x: x and len(x.split('::')) == 4) \\\n",
    "         .map(parse_rating)"
   ]
  },
  {
   "cell_type": "code",
   "execution_count": null,
   "metadata": {
    "collapsed": false
   },
   "outputs": [],
   "source": [
    "trainCount = training.count()\n",
    "trainCount"
   ]
  },
  {
   "cell_type": "code",
   "execution_count": null,
   "metadata": {
    "collapsed": false
   },
   "outputs": [],
   "source": [
    "validationCount = validation.count()\n",
    "validationCount"
   ]
  },
  {
   "cell_type": "code",
   "execution_count": null,
   "metadata": {
    "collapsed": false
   },
   "outputs": [],
   "source": [
    "testCount = test.count()\n",
    "testCount"
   ]
  },
  {
   "cell_type": "code",
   "execution_count": null,
   "metadata": {
    "collapsed": false
   },
   "outputs": [],
   "source": [
    "training.take(3)"
   ]
  },
  {
   "cell_type": "code",
   "execution_count": null,
   "metadata": {
    "collapsed": false
   },
   "outputs": [],
   "source": [
    "validation.take(3)"
   ]
  },
  {
   "cell_type": "code",
   "execution_count": null,
   "metadata": {
    "collapsed": false
   },
   "outputs": [],
   "source": [
    "test.take(3)"
   ]
  },
  {
   "cell_type": "markdown",
   "metadata": {},
   "source": [
    "### Train ALS model using different regularization parameter and latent factors"
   ]
  },
  {
   "cell_type": "code",
   "execution_count": null,
   "metadata": {
    "collapsed": false
   },
   "outputs": [],
   "source": [
    "rank_list = [10, 20, 30, 40, 50] # latent factor\n",
    "lamda_list = [0.01, 0.1, 1.0, 10.0] # regularization parameter\n",
    "iterations = 10\n",
    "chosenModel = None\n",
    "smallestRMSE = 9999999\n",
    "\n",
    "for rank in rank_list:\n",
    "    for lamda in lamda_list:\n",
    "        model = ALS.train(training, rank, iterations, lamda)\n",
    "        rmse = compute_rmse(model, validation, validationCount)\n",
    "        \n",
    "        if rmse < smallestRMSE:\n",
    "            smallestRMSE = rmse\n",
    "            chosenModel = model\n",
    "\n",
    "        print 'Rank={}, Lambda={}, RMSE={}'.format(rank, lamda, rmse)"
   ]
  },
  {
   "cell_type": "code",
   "execution_count": null,
   "metadata": {
    "collapsed": false
   },
   "outputs": [],
   "source": [
    "print 'The smallest RMSE is:{0: .2f}'.format(smallestRMSE)"
   ]
  },
  {
   "cell_type": "markdown",
   "metadata": {},
   "source": [
    "### Use chosen model with test set"
   ]
  },
  {
   "cell_type": "code",
   "execution_count": null,
   "metadata": {
    "collapsed": false
   },
   "outputs": [],
   "source": [
    "testRMSE = compute_rmse(chosenModel, test, testCount)\n",
    "print 'Final error metric using test set ={0: .2f}'.format(testRMSE)"
   ]
  },
  {
   "cell_type": "markdown",
   "metadata": {
    "collapsed": true
   },
   "source": [
    "### Create ratings file that contains movie ratings for one user"
   ]
  },
  {
   "cell_type": "code",
   "execution_count": null,
   "metadata": {
    "collapsed": false
   },
   "outputs": [],
   "source": [
    "user01Ratings = sc.textFile('ml-10M100K/ratings.dat')\n",
    "user01Ratings = newRatings.filter(lambda x: x.split('::')[0] == '1') # userId == 1\n",
    "if not exists('ml-10M100K/user01Ratings.dat'):\n",
    "    user01Ratings.saveAsTextFile('ml-10M100K/user01Ratings.dat')"
   ]
  },
  {
   "cell_type": "code",
   "execution_count": null,
   "metadata": {
    "collapsed": true
   },
   "outputs": [],
   "source": [
    "def generate_recommendations(model, ratingsFile, numRecommended=5):\n",
    "\n",
    "    userMovies = sc.textFile(ratingsFile) \\\n",
    "        .filter(lambda x: x and len(x.split('::')) == 4) \\\n",
    "        .map(parse_rating) \\\n",
    "        .map(lambda x: x[1]).collect()\n",
    "\n",
    "    # get all the rated films that the user has not seen yet\n",
    "    moviesNotSeen = sc.textFile('ml-10M100K/ratings.dat')\\\n",
    "        .filter(lambda x: x and len(x.split('::')) == 4)\\\n",
    "        .map(parse_rating).map(lambda r: (r[1], 1)) \\\n",
    "        .reduceByKey(add).map(lambda r: r[0])\\\n",
    "        .filter(lambda r: r not in userMovies).collect()\n",
    "\n",
    "    candidates = sc.parallelize(moviesNotSeen) \\\n",
    "                .map(lambda x: (x, 1)) \\\n",
    "                .cache()\n",
    "            \n",
    "    predictions = model.predictAll(candidates).collect()\n",
    "    predictions = sorted(predictions, key=lambda x: x[2], reverse=True)[:numRecommended]\n",
    "\n",
    "    movies = ''\n",
    "    with open('ml-10M100K/movies.dat', 'r') as open_file:\n",
    "        movies = {int(line.split('::')[0]): line.split('::')[1]\n",
    "              for line in open_file\n",
    "              if len(line.split('::')) == 3}\n",
    "\n",
    "    recommendations = []\n",
    "    for movieId, _, _ in predictions:\n",
    "        if movieId in movies:\n",
    "            recommendations.append(movies[movieId]) \n",
    " \n",
    "    return recommendations"
   ]
  },
  {
   "cell_type": "code",
   "execution_count": null,
   "metadata": {
    "collapsed": false
   },
   "outputs": [],
   "source": [
    "ratingsFile = 'ml-10M100K/user01Ratings.dat'\n",
    "generate_recommendations(chosenModel, ratingsFile)"
   ]
  },
  {
   "cell_type": "markdown",
   "metadata": {},
   "source": [
    "## Remove Global Bias/User Bias/Item Bias"
   ]
  },
  {
   "cell_type": "code",
   "execution_count": null,
   "metadata": {
    "collapsed": true
   },
   "outputs": [],
   "source": [
    "def getBestTrainingParameters(training, validation, validationCount, biasDict=None, isImplicit=False):\n",
    "    #rank_list = [10, 20, 30] # latent factor\n",
    "    rank_list = [10]\n",
    "    #lamda_list = [0.01, 0.1, 1.0] # regularization parameter\n",
    "    lamda_list = [0.01]\n",
    "    iterations = 5\n",
    "    bestModel, bestRMSE, bestRank, bestLamda = None, float(\"inf\"), None, None\n",
    "\n",
    "    for rank in rank_list:\n",
    "        for lamda in lamda_list:\n",
    "            \n",
    "            if isImplicit:\n",
    "                model = ALS.trainImplicit(training, rank, iterations, lamda)\n",
    "            else:\n",
    "                model = ALS.train(training, rank, iterations, lamda)\n",
    "                \n",
    "            rmse = compute_rmse(model, validation, validationCount, biasDict)\n",
    "\n",
    "            if rmse < bestRMSE:\n",
    "                bestModel, bestRMSE, bestRank, bestLamda = model, rmse, rank, lamda\n",
    "\n",
    "            print 'RMSE={}: Rank={}, Lambda={}'.format(rmse, rank, lamda)\n",
    "    \n",
    "    return (bestModel,bestRMSE,bestRank,bestLamda)"
   ]
  },
  {
   "cell_type": "markdown",
   "metadata": {},
   "source": [
    "### Global average bias"
   ]
  },
  {
   "cell_type": "code",
   "execution_count": null,
   "metadata": {
    "collapsed": false
   },
   "outputs": [],
   "source": [
    "sumCount = training.map(lambda (u,m,r): (m,r)).combineByKey(lambda value: (value, 1),\n",
    "                             lambda x, value: (x[0] + value, x[1] + 1),\n",
    "                             lambda x, y: (x[0] + y[0], x[1] + y[1]))\n",
    "\n",
    "globalAvg = sumCount.map(lambda (label, (value_sum, count)): (label, round(value_sum / count, 3))) # 3 dp\n",
    "globalAvg = globalAvg.collectAsMap() # dict\n",
    "\n",
    "sumKeys, sumValues = 0, 0\n",
    "for k,v in enumerate(globalAvg):\n",
    "    sumKeys += k\n",
    "    sumValues += v\n",
    "\n",
    "globalAvg = float(sumKeys)/sumValues\n",
    "print \"globalAvg:\", globalAvg"
   ]
  },
  {
   "cell_type": "markdown",
   "metadata": {},
   "source": [
    "### Remove global average bias"
   ]
  },
  {
   "cell_type": "code",
   "execution_count": null,
   "metadata": {
    "collapsed": false
   },
   "outputs": [],
   "source": [
    "trainingWithoutGlobalAvg = training.map(lambda (u,m,r): (u,m,r-globalAvg))\n",
    "trainingWithoutGlobalAvg.take(3)"
   ]
  },
  {
   "cell_type": "code",
   "execution_count": null,
   "metadata": {
    "collapsed": false
   },
   "outputs": [],
   "source": [
    "globalAvgResults = getBestTrainingParameters(trainingWithoutGlobalAvg, validation, validationCount, globalAvg)"
   ]
  },
  {
   "cell_type": "code",
   "execution_count": null,
   "metadata": {
    "collapsed": false
   },
   "outputs": [],
   "source": [
    "print \"rmse after treating avg ratings bias:\", globalAvgResults[1]"
   ]
  },
  {
   "cell_type": "markdown",
   "metadata": {
    "collapsed": true
   },
   "source": [
    "### Item/Movie bias"
   ]
  },
  {
   "cell_type": "code",
   "execution_count": null,
   "metadata": {
    "collapsed": false
   },
   "outputs": [],
   "source": [
    "sumCount = training.map(lambda (u,m,r): (m,r)).combineByKey(lambda value: (value, 1),\n",
    "                             lambda x, value: (x[0] + value, x[1] + 1),\n",
    "                             lambda x, y: (x[0] + y[0], x[1] + y[1]))\n",
    "\n",
    "itemBias = sumCount.map(lambda (label, (value_sum, count)): (label, round(value_sum / count, 3))) # 3 dp\n",
    "itemBias = itemBias.collectAsMap() # dict\n",
    "\n",
    "# show n keys\n",
    "i, N = 0, 5\n",
    "for k,v in enumerate(itemBias):\n",
    "    print k, \":\", v\n",
    "    i += 1\n",
    "    if i == N: break"
   ]
  },
  {
   "cell_type": "markdown",
   "metadata": {},
   "source": [
    "### Remove item bias"
   ]
  },
  {
   "cell_type": "code",
   "execution_count": null,
   "metadata": {
    "collapsed": false
   },
   "outputs": [],
   "source": [
    "trainingWithoutItemBias = training.map(lambda (u,m,r): (u,m,r-globalAvg[m]))\n",
    "itemBiasResults = getBestTrainingParameters(trainingWithoutItemBias, validation, validationCount, itemBias)"
   ]
  },
  {
   "cell_type": "code",
   "execution_count": null,
   "metadata": {
    "collapsed": false
   },
   "outputs": [],
   "source": [
    "print \"best rmse (item bias):\", itemBiasResults[1]"
   ]
  },
  {
   "cell_type": "markdown",
   "metadata": {
    "collapsed": true
   },
   "source": [
    "### User bias"
   ]
  },
  {
   "cell_type": "code",
   "execution_count": null,
   "metadata": {
    "collapsed": false
   },
   "outputs": [],
   "source": [
    "sumCount = training.map(lambda (u,m,r): (u,r)).combineByKey(lambda value: (value, 1),\n",
    "                             lambda x, value: (x[0] + value, x[1] + 1),\n",
    "                             lambda x, y: (x[0] + y[0], x[1] + y[1]))\n",
    "\n",
    "userBias = sumCount.map(lambda (label, (value_sum, count)): (label, round(value_sum / count, 3))) # 3 dp\n",
    "userBias = userBias.collectAsMap() # dict\n",
    "\n",
    "# show n keys\n",
    "i, N = 0, 5\n",
    "for k,v in enumerate(userBias):\n",
    "    print k, \":\", v\n",
    "    i += 1\n",
    "    if i == N: break"
   ]
  },
  {
   "cell_type": "markdown",
   "metadata": {},
   "source": [
    "### Remove user bias"
   ]
  },
  {
   "cell_type": "code",
   "execution_count": null,
   "metadata": {
    "collapsed": false
   },
   "outputs": [],
   "source": [
    "trainingWithoutUserBias = training.map(lambda (u,m,r): (u,m,userBias.get(u,0.409))) #replace with avg when no rating\n",
    "userBiasResults = getBestTrainingParameters(trainingWithoutUserBias, validation, validationCount, userBias)"
   ]
  },
  {
   "cell_type": "code",
   "execution_count": null,
   "metadata": {
    "collapsed": false
   },
   "outputs": [],
   "source": [
    "print \"best rmse (user bias):\", userBiasResults[1]"
   ]
  },
  {
   "cell_type": "markdown",
   "metadata": {},
   "source": [
    "## Million Song Dataset"
   ]
  },
  {
   "cell_type": "markdown",
   "metadata": {},
   "source": [
    "### Split dataset into 60-20-20"
   ]
  },
  {
   "cell_type": "code",
   "execution_count": null,
   "metadata": {
    "collapsed": false
   },
   "outputs": [],
   "source": [
    "if (exists('songTrain60.txt') and exists('songValidation20.txt') and exists('songTest20.txt')):\n",
    "    print \"Already created files: songTrain60.txt, songValidation20.txt, songTest20.txt\"    \n",
    "\n",
    "else:\n",
    "    # split into chunks of 3.2 million each (total dataset: 48373586 lines)\n",
    "    print \"splitting file...\"\n",
    "    !split -l 3200000 train_triplets.txt ff\n",
    "    \n",
    "    !cat ffae ffaj ffab ffai ffaf ffad ffam ffac ffah > songTrain60.txt\n",
    "    !rm ffae ffaj ffab ffai ffaf ffad ffam ffac ffah\n",
    "    \n",
    "    !cat ffal ffag ffaa > songValidation20.txt\n",
    "    !rm ffal ffag ffaa\n",
    "    \n",
    "    !cat ff* > songTest20.txt\n",
    "    !rm ff*\n",
    "\n",
    "    print \"splitting complete.\"    \n",
    "    print \"Newly created files: songTrain60.txt, songValidation20.txt, songTest20.txt\""
   ]
  },
  {
   "cell_type": "code",
   "execution_count": null,
   "metadata": {
    "collapsed": false
   },
   "outputs": [],
   "source": [
    "songTraining = sc.textFile('songTrain60.txt', use_unicode=False)\n",
    "songTraining.take(3)"
   ]
  },
  {
   "cell_type": "code",
   "execution_count": null,
   "metadata": {
    "collapsed": false
   },
   "outputs": [],
   "source": [
    "songValidation = sc.textFile('songValidation20.txt', use_unicode=False)\n",
    "songValidation.take(3)"
   ]
  },
  {
   "cell_type": "code",
   "execution_count": null,
   "metadata": {
    "collapsed": false
   },
   "outputs": [],
   "source": [
    "songTest = sc.textFile('songTest20.txt', use_unicode=False)\n",
    "songTest.take(3)"
   ]
  },
  {
   "cell_type": "code",
   "execution_count": null,
   "metadata": {
    "collapsed": false
   },
   "outputs": [],
   "source": [
    "songTrainingCount = songTraining.count()\n",
    "songTrainingCount"
   ]
  },
  {
   "cell_type": "code",
   "execution_count": null,
   "metadata": {
    "collapsed": false
   },
   "outputs": [],
   "source": [
    "songValidationCount = songValidation.count()\n",
    "songValidationCount"
   ]
  },
  {
   "cell_type": "code",
   "execution_count": null,
   "metadata": {
    "collapsed": false
   },
   "outputs": [],
   "source": [
    "songTestCount = songTest.count()\n",
    "songTestCount"
   ]
  },
  {
   "cell_type": "code",
   "execution_count": null,
   "metadata": {
    "collapsed": false
   },
   "outputs": [],
   "source": [
    "binarySongs = songDataset.map(lambda x: x.split(\"\\t\")).map(lambda(x,y,z): (x,y,1) if int(z) > 5 else (x,y,0))\n",
    "binarySongs.take(3)"
   ]
  },
  {
   "cell_type": "markdown",
   "metadata": {},
   "source": [
    "### Create single user ratings file"
   ]
  },
  {
   "cell_type": "code",
   "execution_count": null,
   "metadata": {
    "collapsed": false
   },
   "outputs": [],
   "source": [
    "user01Songs = sc.textFile('train_triplets.txt')  #(user, song, play count) "
   ]
  },
  {
   "cell_type": "code",
   "execution_count": null,
   "metadata": {
    "collapsed": false
   },
   "outputs": [],
   "source": [
    "user01Songs = user01Songs.filter(lambda x: x.split('\\t')[0] == 'b80344d063b5ccb3212f76538f3d9e43d87dca9e') # userId\n",
    "if not exists('user01Songs.txt'):\n",
    "    user01Songs.saveAsTextFile('user01Songs.txt')"
   ]
  },
  {
   "cell_type": "markdown",
   "metadata": {},
   "source": [
    "### Create song implicit ALS model"
   ]
  },
  {
   "cell_type": "code",
   "execution_count": null,
   "metadata": {
    "collapsed": false
   },
   "outputs": [],
   "source": [
    "songResults = getBestTrainingParameters(binarySongs, songValidation, songValidationCount, isImplicit=True)"
   ]
  },
  {
   "cell_type": "code",
   "execution_count": null,
   "metadata": {
    "collapsed": true
   },
   "outputs": [],
   "source": [
    "chosenSongModel = songResults[0]\n",
    "print \"songResults best rmse:\", songResults[1]"
   ]
  },
  {
   "cell_type": "code",
   "execution_count": null,
   "metadata": {
    "collapsed": true
   },
   "outputs": [],
   "source": [
    "songRatingsFile = 'user01Songs.txt'\n",
    "generate_recommendations(chosenSongModel, songRatingsFile)"
   ]
  },
  {
   "cell_type": "code",
   "execution_count": null,
   "metadata": {
    "collapsed": false
   },
   "outputs": [],
   "source": [
    "binarySongs.take(4)"
   ]
  },
  {
   "cell_type": "code",
   "execution_count": null,
   "metadata": {
    "collapsed": true
   },
   "outputs": [],
   "source": []
  },
  {
   "cell_type": "code",
   "execution_count": null,
   "metadata": {
    "collapsed": true
   },
   "outputs": [],
   "source": []
  }
 ],
 "metadata": {
  "kernelspec": {
   "display_name": "Python 2",
   "language": "python",
   "name": "python2"
  },
  "language_info": {
   "codemirror_mode": {
    "name": "ipython",
    "version": 2
   },
   "file_extension": ".py",
   "mimetype": "text/x-python",
   "name": "python",
   "nbconvert_exporter": "python",
   "pygments_lexer": "ipython2",
   "version": "2.7.10"
  }
 },
 "nbformat": 4,
 "nbformat_minor": 0
}
