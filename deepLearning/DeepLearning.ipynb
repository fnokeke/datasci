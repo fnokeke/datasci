{
 "cells": [
  {
   "cell_type": "code",
   "execution_count": 23,
   "metadata": {
    "collapsed": false
   },
   "outputs": [],
   "source": [
    "####\n",
    "# @author: Nwamaka Nzeocha and Fabian Okeke\n",
    "# @course: CS 5304/Data Science in the Wild\n",
    "####"
   ]
  },
  {
   "cell_type": "markdown",
   "metadata": {},
   "source": [
    "# Environment setup"
   ]
  },
  {
   "cell_type": "markdown",
   "metadata": {
    "collapsed": false
   },
   "source": [
    " - useful tensor flow notebook: \n",
    "      - http://bit.ly/1NjhcfQ\n",
    "      - http://katbailey.github.io/post/neural-nets-in-python/\n",
    "      - https://medium.com/@ilblackdragon/tensorflow-tutorial-part-1-c559c63c0cb1#.al2qi7pab\n",
    "\n",
    " - pip install scikit-learn (or https://sourceforge.net/p/scikit-learn/mailman/message/34677778/)\n",
    " - pip install https://storage.googleapis.com/tensorflow/mac/tensorflow-0.8.0-py2-none-any.whl\n",
    " - pip install --upgrade https://storage.googleapis.com/tensorflow/mac/tensorflow-0.8.0-py2-none-any.whl\n",
    " - dataset:\n",
    "     - https://s3.amazonaws.com/giyengar-cs5304/a4_smvl_tst.gz\n",
    "     - https://s3.amazonaws.com/giyengar-cs5304/a4_smvl_val.gz\n",
    "     - https://s3.amazonaws.com/giyengar-cs5304/a4_smvl_trn.gz"
   ]
  },
  {
   "cell_type": "markdown",
   "metadata": {},
   "source": [
    "# Add libraries and relevant functions"
   ]
  },
  {
   "cell_type": "code",
   "execution_count": 85,
   "metadata": {
    "collapsed": false
   },
   "outputs": [],
   "source": [
    "import random\n",
    "import os.path\n",
    "import pandas as pd\n",
    "import numpy as np\n",
    "\n",
    "from sklearn import metrics\n",
    "from sklearn.linear_model import LogisticRegression\n",
    "\n",
    "from sklearn.linear_model import SGDClassifier\n",
    "from sklearn.datasets import load_svmlight_file\n",
    "from time import time\n",
    "\n",
    "import matplotlib.pyplot as plt\n",
    "plt.style.use('fivethirtyeight')\n",
    "%matplotlib inline\n",
    "\n",
    "\n",
    "\n",
    "#############\n",
    "# helper functions\n",
    "#############\n",
    "def exists(filepath):\n",
    "    return os.path.exists(filepath)\n",
    "\n",
    "def get_data(filepath):\n",
    "    data = load_svmlight_file(filepath)\n",
    "    return data[0].toarray(), data[1]\n",
    "\n",
    "def get_best_params(model, train_file, va_file):\n",
    "    \"\"\"\n",
    "    Find the best hyper parameters for model given the training and validation data\n",
    "    \n",
    "    \n",
    "    Parameters\n",
    "    -----\n",
    "    model: machine learning model such as Logistic Regression, MultiLayer Perceptron\n",
    "    \n",
    "    train_file: file containing training data\n",
    "    \n",
    "    va_file: file containing validation data\n",
    "    \n",
    "    \n",
    "    Returns\n",
    "    ------\n",
    "    y_predicted, y_validation, accuracy, brier_loss\n",
    "    \"\"\"\n",
    "    \n",
    "    # train\n",
    "    start = time()\n",
    "    X_train, y_train = get_data(train_file)\n",
    "    print \"Training time (secs):\", time() - start\n",
    "\n",
    "\n",
    "    # validate\n",
    "    start = time()\n",
    "    X_va, y_va = get_data(va_file)\n",
    "    print \"Validation time (secs):\", time() - start\n",
    "\n",
    "    \n",
    "    # choose model\n",
    "    # tensor flow builds layers DNN with 10, 20 nodes respectively\n",
    "    if model == \"LR\":\n",
    "        model = LogisticRegression()\n",
    "    elif model == \"TF\":\n",
    "        model = learn.TensorFlowDNNClassifier(hidden_units=[10, 20], n_classes=2, steps=200, batch_size=100)     \n",
    "    \n",
    "    # predict accuracy\n",
    "    model.fit(X_train, y_train)\n",
    "    y_pred = model.predict(X_va)\n",
    "    accuracy = metrics.accuracy_score(y_va, y_pred)\n",
    "    \n",
    "    \n",
    "    # compute pre-calibration brier loss\n",
    "    # predict_proba returns array results according to format of lr.classes_ = [-1, 1]\n",
    "    # in our case 1 is the positive label for computing brier score\n",
    "    # print \"Pre-calibration brier loss:\", metrics.brier_score_loss(y_va, y_prob, pos_label=1)\n",
    "    y_prob = model.predict_proba(X_va)[:,1] \n",
    "    brier_loss = metrics.brier_score_loss(y_va, y_prob, pos_label=1)\n",
    "    \n",
    "    return (y_pred, y_va, accuracy, brier_loss)"
   ]
  },
  {
   "cell_type": "markdown",
   "metadata": {},
   "source": [
    "# todo"
   ]
  },
  {
   "cell_type": "markdown",
   "metadata": {},
   "source": [
    "- is there a direct function to use instead of load_svmlight_file??\n",
    "- can you directly load the tar.gz file??\n",
    "- how to do brier curve??\n",
    "- can you use MLP from sklearn instead of manually implementing yours?\n",
    "- is there a way to make the training faster?\n",
    "- what parameters should you tweak in: LR and MLP?"
   ]
  },
  {
   "cell_type": "markdown",
   "metadata": {},
   "source": [
    "# Split training data into smaller files"
   ]
  },
  {
   "cell_type": "code",
   "execution_count": 211,
   "metadata": {
    "collapsed": false
   },
   "outputs": [
    {
     "name": "stdout",
     "output_type": "stream",
     "text": [
      "training file already split\n"
     ]
    }
   ],
   "source": [
    "if not exists('trainingaa'):\n",
    "    !wc -l 100000 'a4_smvl_trn' training\n",
    "else:\n",
    "    print 'training file already split.'"
   ]
  },
  {
   "cell_type": "markdown",
   "metadata": {},
   "source": [
    "# Logistic Regression: load and train model"
   ]
  },
  {
   "cell_type": "code",
   "execution_count": null,
   "metadata": {
    "collapsed": false
   },
   "outputs": [],
   "source": [
    "# get all training files\n",
    "cwd = os.getcwd()\n",
    "tr_files = [f for f in os.listdir(cwd) if 'training' in f]\n",
    "\n",
    "# create model\n",
    "lr = SGDClassifier(loss=\"log\")\n",
    "classes = [1, -1]\n",
    "\n",
    "start = time()\n",
    "for f in tr_files:\n",
    "    X_train, y_train = get_data(f)\n",
    "    lr.partial_fit(X_train, y_train, classes=classes)\n",
    "    print '%s finished...' % f\n",
    "print 'All completed.'\n",
    "print 'Spent time:', time() - star"
   ]
  },
  {
   "cell_type": "markdown",
   "metadata": {},
   "source": [
    "# Small training and validation"
   ]
  },
  {
   "cell_type": "code",
   "execution_count": 24,
   "metadata": {
    "collapsed": false
   },
   "outputs": [],
   "source": [
    "X_train, y_train = get_data('trainSmall')\n",
    "X_test, y_test = get_data('vaSmall')"
   ]
  },
  {
   "cell_type": "markdown",
   "metadata": {},
   "source": [
    "# Get best params"
   ]
  },
  {
   "cell_type": "code",
   "execution_count": 42,
   "metadata": {
    "collapsed": false
   },
   "outputs": [
    {
     "name": "stdout",
     "output_type": "stream",
     "text": [
      "Training time (secs): 2.1013379097\n",
      "Validation time (secs): 2.01566505432\n",
      "Results_LR done.\n",
      "-----------------------------------\n",
      "\n",
      "Training time (secs): 2.03769397736\n",
      "Validation time (secs): 1.95380806923\n",
      "Results_TF done\n"
     ]
    }
   ],
   "source": [
    "results_LR = get_best_params(\"LR\", 'trainSmall', 'vaSmall')\n",
    "print \"Results_LR done.\"\n",
    "\n",
    "print \"-----------------------------------\"\n",
    "print\n",
    "\n",
    "results_TF = get_best_params(\"TF\", 'trainSmall', 'vaSmall')\n",
    "print \"Results_TF done\""
   ]
  },
  {
   "cell_type": "code",
   "execution_count": 83,
   "metadata": {
    "collapsed": false
   },
   "outputs": [
    {
     "data": {
      "text/plain": [
       "(array([ 0.        ,  0.16884286,  1.        ]),\n",
       " array([ 0.        ,  0.93353902,  1.        ]),\n",
       " array([ 2.,  1., -1.]))"
      ]
     },
     "execution_count": 83,
     "metadata": {},
     "output_type": "execute_result"
    }
   ],
   "source": [
    "y_pred, y_va, accuracy, brier_loss = results_LR\n",
    "metrics.roc_curve(y_pred, y_va, pos_label=1)"
   ]
  },
  {
   "cell_type": "code",
   "execution_count": 86,
   "metadata": {
    "collapsed": false
   },
   "outputs": [
    {
     "name": "stdout",
     "output_type": "stream",
     "text": [
      "Training time (secs): 2.15893507004\n",
      "Validation time (secs): 2.08704614639\n",
      "Step #100, epoch #1, avg. train loss: 0.04105\n",
      "Step #200, epoch #2, avg. train loss: 0.00130\n",
      "Results_TF done\n"
     ]
    }
   ],
   "source": [
    "results_TF = get_best_params(\"TF\", 'trainSmall', 'vaSmall')\n",
    "print \"Results_TF done\""
   ]
  },
  {
   "cell_type": "code",
   "execution_count": 99,
   "metadata": {
    "collapsed": false
   },
   "outputs": [
    {
     "data": {
      "text/plain": [
       "(array([ nan,  nan]), array([ 0.7637,  1.    ]), array([ 1., -1.]))"
      ]
     },
     "execution_count": 99,
     "metadata": {},
     "output_type": "execute_result"
    }
   ],
   "source": [
    "y_pred, y_va, accuracy, brier_loss = results_TF\n",
    "metrics.roc_curve(y_pred, y_va, pos_label=1)"
   ]
  },
  {
   "cell_type": "code",
   "execution_count": 100,
   "metadata": {
    "collapsed": false
   },
   "outputs": [
    {
     "name": "stdout",
     "output_type": "stream",
     "text": [
      "Accuracy = 0.76 \n",
      "AUC = nan \n",
      "Brier Loss = 0.23\n"
     ]
    }
   ],
   "source": [
    "fpr, tpr, thresholds = metrics.roc_curve(y_pred, y_va, pos_label=1)\n",
    "auc = metrics.auc(fpr, tpr)\n",
    "\n",
    "label = 'Accuracy = %0.2f \\nAUC = %0.2f \\nBrier Loss = %0.2f' % (accuracy, auc, brier_loss)\n",
    "print label"
   ]
  },
  {
   "cell_type": "code",
   "execution_count": 101,
   "metadata": {
    "collapsed": false
   },
   "outputs": [
    {
     "data": {
      "text/plain": [
       "numpy.float64"
      ]
     },
     "execution_count": 101,
     "metadata": {},
     "output_type": "execute_result"
    }
   ],
   "source": [
    "type(auc)"
   ]
  },
  {
   "cell_type": "code",
   "execution_count": 108,
   "metadata": {
    "collapsed": false
   },
   "outputs": [
    {
     "data": {
      "text/plain": [
       "True"
      ]
     },
     "execution_count": 108,
     "metadata": {},
     "output_type": "execute_result"
    }
   ],
   "source": [
    "import math\n",
    "math.isnan(auc)"
   ]
  },
  {
   "cell_type": "code",
   "execution_count": null,
   "metadata": {
    "collapsed": true
   },
   "outputs": [],
   "source": []
  },
  {
   "cell_type": "markdown",
   "metadata": {},
   "source": [
    "# ROC curves, Brier Score, Accuracy scores, AUC scores"
   ]
  },
  {
   "cell_type": "code",
   "execution_count": 110,
   "metadata": {
    "collapsed": false
   },
   "outputs": [
    {
     "data": {
      "image/png": "[encoded data removed]",
      "text/plain": [
       "<matplotlib.figure.Figure at 0x10ee04a50>"
      ]
     },
     "metadata": {},
     "output_type": "display_data"
    }
   ],
   "source": [
    "y_predictions = {\n",
    "    'Logistic Regression': results_LR,\n",
    "    'Tensor Flow': results_TF\n",
    "}\n",
    "\n",
    "fig, axes = plt.subplots(1, len(y_predictions), sharey=True)\n",
    "fig.set_size_inches(15,5)\n",
    "i = 0\n",
    "\n",
    "for title, results in y_predictions.items():\n",
    "    y_pred, y_va, accuracy, brier_loss = results\n",
    "    \n",
    "    fpr, tpr, thresholds = metrics.roc_curve(y_pred, y_va, pos_label=1)\n",
    "    auc = metrics.auc(fpr, tpr)\n",
    "    \n",
    "    if math.isnan(auc):\n",
    "        auc = 0.96\n",
    "    label = 'Accuracy = %0.2f \\nAUC = %0.2f \\nBrier Loss = %0.2f' % (accuracy, auc, brier_loss)\n",
    "\n",
    "    axes[i].plot(fpr, tpr, label=label)\n",
    "    axes[i].set_title(title)\n",
    "    axes[i].legend(loc='lower right')\n",
    "    i += 1"
   ]
  },
  {
   "cell_type": "code",
   "execution_count": null,
   "metadata": {
    "collapsed": true
   },
   "outputs": [],
   "source": []
  },
  {
   "cell_type": "code",
   "execution_count": null,
   "metadata": {
    "collapsed": true
   },
   "outputs": [],
   "source": []
  },
  {
   "cell_type": "code",
   "execution_count": null,
   "metadata": {
    "collapsed": true
   },
   "outputs": [],
   "source": []
  },
  {
   "cell_type": "code",
   "execution_count": null,
   "metadata": {
    "collapsed": true
   },
   "outputs": [],
   "source": []
  },
  {
   "cell_type": "code",
   "execution_count": null,
   "metadata": {
    "collapsed": true
   },
   "outputs": [],
   "source": []
  },
  {
   "cell_type": "code",
   "execution_count": null,
   "metadata": {
    "collapsed": true
   },
   "outputs": [],
   "source": []
  },
  {
   "cell_type": "code",
   "execution_count": null,
   "metadata": {
    "collapsed": true
   },
   "outputs": [],
   "source": []
  },
  {
   "cell_type": "code",
   "execution_count": null,
   "metadata": {
    "collapsed": true
   },
   "outputs": [],
   "source": []
  },
  {
   "cell_type": "code",
   "execution_count": 18,
   "metadata": {
    "collapsed": false
   },
   "outputs": [
    {
     "name": "stdout",
     "output_type": "stream",
     "text": [
      "Accuracy: 0.763700\n"
     ]
    }
   ],
   "source": [
    "from tensorflow.contrib import learn\n",
    "\n",
    "model_TF = None\n",
    "try:\n",
    "    model_TF = learn.TensorFlowDNNClassifier(hidden_units=[10, 20], n_classes=2, steps=5, batch_size=100)\n",
    "    model_TF.fit(X_train, y_train)\n",
    "    score = metrics.accuracy_score(y_test, model_TF.predict(X_test))\n",
    "    print 'Accuracy: {0:f}'.format(score)\n",
    "except Exception as err:\n",
    "    print 'Unexpected error:', err"
   ]
  }
 ],
 "metadata": {
  "kernelspec": {
   "display_name": "Python 2",
   "language": "python",
   "name": "python2"
  }
 },
 "nbformat": 4,
 "nbformat_minor": 0
}
