{
 "cells": [
  {
   "cell_type": "code",
   "execution_count": 161,
   "metadata": {
    "collapsed": false
   },
   "outputs": [],
   "source": [
    "####\n",
    "# @author: Nwamaka Nzeocha and Fabian Okeke\n",
    "# @course: CS 5304/Data Science in the Wild\n",
    "####"
   ]
  },
  {
   "cell_type": "markdown",
   "metadata": {},
   "source": [
    "# Environment setup"
   ]
  },
  {
   "cell_type": "markdown",
   "metadata": {
    "collapsed": false
   },
   "source": [
    "**useful tensor flow notebook:**\n",
    " - http://bit.ly/1NjhcfQ\n",
    " - http://katbailey.github.io/post/neural-nets-in-python/\n",
    " - https://medium.com/@ilblackdragon/tensorflow-tutorial-part-1-c559c63c0cb1#.al2qi7pab\n",
    "\n",
    "**libraries:**\n",
    " - pip install https://storage.googleapis.com/tensorflow/mac/tensorflow-0.8.0-py2-none-any.whl \n",
    " - pip install -r requirements.txt\n",
    "\n",
    "**dataset:**\n",
    " - https://s3.amazonaws.com/giyengar-cs5304/a4_smvl_tst.gz\n",
    " - https://s3.amazonaws.com/giyengar-cs5304/a4_smvl_val.gz\n",
    " - https://s3.amazonaws.com/giyengar-cs5304/a4_smvl_trn.gz"
   ]
  },
  {
   "cell_type": "markdown",
   "metadata": {},
   "source": [
    "# Add libraries and relevant functions"
   ]
  },
  {
   "cell_type": "code",
   "execution_count": 162,
   "metadata": {
    "collapsed": false
   },
   "outputs": [],
   "source": [
    "import random\n",
    "import os.path\n",
    "import pandas as pd\n",
    "import numpy as np\n",
    "\n",
    "from sklearn import metrics\n",
    "from sklearn.linear_model import LogisticRegression\n",
    "\n",
    "from sklearn.linear_model import SGDClassifier\n",
    "from sklearn.datasets import load_svmlight_file\n",
    "from tensorflow.contrib import learn\n",
    "\n",
    "from time import time\n",
    "\n",
    "import matplotlib.pyplot as plt\n",
    "plt.style.use('fivethirtyeight')\n",
    "%matplotlib inline\n",
    "\n",
    "\n",
    "\n",
    "#############\n",
    "# helper functions\n",
    "#############\n",
    "\n",
    "###\n",
    "# shell command\n",
    "##gunzip -c a4_smvl_trn.gz | head -n 100000 | gshuf | head -n 10000 > trainSmall # Split into smaller file\n",
    "###\n",
    "\n",
    "def exists(filepath):\n",
    "    \"\"\"\n",
    "    Check if file or dir exists\n",
    "        \n",
    "    \n",
    "    Parameters\n",
    "    -----\n",
    "    filepath: location of file or dir    \n",
    "    \n",
    "    \n",
    "    Returns\n",
    "    ------\n",
    "    True if file/dir exists in filepath else False\n",
    "    \"\"\"\n",
    "    return os.path.exists(filepath)\n",
    "\n",
    "\n",
    "\n",
    "def get_data(filepath):\n",
    "    \"\"\"\n",
    "    Retrieve data in svm_light format\n",
    "    \n",
    "    \n",
    "    Parameters\n",
    "    -----\n",
    "    filepath: location of file    \n",
    "    \n",
    "    \n",
    "    Returns\n",
    "    ------\n",
    "    tuple of numpy arrays: X, y   \n",
    "    \"\"\"\n",
    "    start = time()\n",
    "    data = load_svmlight_file(filepath)\n",
    "    print 'Loading duration(secs):', time() - start\n",
    "    return data[0].toarray(), (data[1]+1)/2\n",
    "\n",
    "\n",
    "def get_model_results(model, training_data, test_data):\n",
    "    \"\"\"\n",
    "    Find the best hyper parameters for model given the training and test data\n",
    "    \n",
    "    \n",
    "    Parameters\n",
    "    -----\n",
    "    model: machine learning model such as Logistic Regression, MultiLayer Perceptron\n",
    "    \n",
    "    training_data: list containing X,y training data\n",
    "    \n",
    "    test_data: list containing test X,y test data\n",
    "    \n",
    "    \n",
    "    Returns\n",
    "    ------\n",
    "    y_proba, y_pred y_test, accuracy, auc, brier_loss\n",
    "    \"\"\"\n",
    "    \n",
    "    # choose model\n",
    "    if model == \"LR\":\n",
    "        model = LogisticRegression()\n",
    "    elif model == \"TF\":\n",
    "        model = learn.TensorFlowDNNClassifier(hidden_units=[150, 40], n_classes=2, steps=10, batch_size=25, learning_rate=0.002, optimizer=\"Adam\")\n",
    "     \n",
    "    # fit model\n",
    "    start = time()\n",
    "    X_train, y_train = training_data\n",
    "    X_test, y_test = test_data\n",
    "    model.fit(X_train, y_train)\n",
    "    \n",
    "    # accuracy\n",
    "    y_pred = model.predict(X_test)\n",
    "    accuracy = metrics.accuracy_score(y_test, y_pred)\n",
    "\n",
    "    # auc\n",
    "    y_proba = model.predict_proba(X_test)\n",
    "    auc = metrics.roc_auc_score(y_test, (y_proba[:,1] - y_proba[:,0]))\n",
    "            \n",
    "    print 'Accuracy: {0:f}'.format(accuracy)\n",
    "    print 'AUC: {0:f}'.format(auc)\n",
    "    \n",
    "    # brier loss\n",
    "    brier_loss = metrics.brier_score_loss(y_test, y_proba[:,1], pos_label=1)\n",
    "\n",
    "    print 'Model computation duration (secs):', time() - start\n",
    "    return (y_proba, y_pred, y_test, accuracy, auc, brier_loss)"
   ]
  },
  {
   "cell_type": "markdown",
   "metadata": {},
   "source": [
    "# Load dataset"
   ]
  },
  {
   "cell_type": "code",
   "execution_count": 163,
   "metadata": {
    "collapsed": false
   },
   "outputs": [
    {
     "name": "stdout",
     "output_type": "stream",
     "text": [
      "Loading duration(secs): 0.344120025635\n"
     ]
    }
   ],
   "source": [
    "X_train, y_train = get_data('trainSmall')"
   ]
  },
  {
   "cell_type": "code",
   "execution_count": 164,
   "metadata": {
    "collapsed": false
   },
   "outputs": [
    {
     "name": "stdout",
     "output_type": "stream",
     "text": [
      "Loading duration(secs): 0.329529047012\n"
     ]
    }
   ],
   "source": [
    "X_test, y_test = get_data('vaSmall')"
   ]
  },
  {
   "cell_type": "markdown",
   "metadata": {},
   "source": [
    "# Get results for LR"
   ]
  },
  {
   "cell_type": "code",
   "execution_count": 165,
   "metadata": {
    "collapsed": false
   },
   "outputs": [
    {
     "name": "stdout",
     "output_type": "stream",
     "text": [
      "Accuracy: 0.897000\n",
      "AUC: 0.910952\n",
      "Model computation duration (secs): 0.31533408165\n",
      "****Results_LR done****\n"
     ]
    }
   ],
   "source": [
    "results_LR = get_model_results(\"LR\", [X_train, y_train], [X_test, y_test])\n",
    "print \"****Results_LR done****\""
   ]
  },
  {
   "cell_type": "markdown",
   "metadata": {},
   "source": [
    "# Get results for Tensor Flow MLP"
   ]
  },
  {
   "cell_type": "code",
   "execution_count": 166,
   "metadata": {
    "collapsed": false
   },
   "outputs": [
    {
     "name": "stdout",
     "output_type": "stream",
     "text": [
      "Accuracy: 0.879000\n",
      "AUC: 0.886414\n",
      "Model computation duration (secs): 3.35792803764\n",
      "****Results_TF done****\n"
     ]
    }
   ],
   "source": [
    "results_TF = get_model_results(\"TF\", [X_train, y_train], [X_test, y_test])\n",
    "print \"****Results_TF done****\""
   ]
  },
  {
   "cell_type": "markdown",
   "metadata": {},
   "source": [
    "# ROC curves, Brier Score, Accuracy scores, AUC scores"
   ]
  },
  {
   "cell_type": "code",
   "execution_count": 167,
   "metadata": {
    "collapsed": false
   },
   "outputs": [
    {
     "data": {
      "image/png": "[encoded data removed]",
      "text/plain": [
       "<matplotlib.figure.Figure at 0x10f9d03d0>"
      ]
     },
     "metadata": {},
     "output_type": "display_data"
    }
   ],
   "source": [
    "y_predictions = {\n",
    "    'Logistic Regression': results_LR,\n",
    "    'Tensor Flow': results_TF\n",
    "}\n",
    "\n",
    "fig, axes = plt.subplots(1, len(y_predictions), sharey=True)\n",
    "fig.set_size_inches(15,5)\n",
    "i = 0\n",
    "\n",
    "for title, results in y_predictions.items():\n",
    "    y_proba, y_pred, y_test, accuracy, auc, brier_loss = results\n",
    "    \n",
    "    fpr, tpr, thresholds = metrics.roc_curve(y_test, (y_proba[:,1] - y_proba[:,0]))\n",
    "    \n",
    "    label = 'Accuracy = %0.2f \\nAUC = %0.2f \\nBrier Loss = %0.2f' % (accuracy, auc, brier_loss)\n",
    "    axes[i].plot(fpr, tpr, label=label)\n",
    "    axes[i].set_title(title)\n",
    "    axes[i].legend(loc='lower right')\n",
    "    i += 1"
   ]
  }
 ],
 "metadata": {
  "kernelspec": {
   "display_name": "Python 2",
   "language": "python",
   "name": "python2"
  },
  "language_info": {
   "codemirror_mode": {
    "name": "ipython",
    "version": 2
   },
   "file_extension": ".py",
   "mimetype": "text/x-python",
   "name": "python",
   "nbconvert_exporter": "python",
   "pygments_lexer": "ipython2",
   "version": "2.7.10"
  }
 },
 "nbformat": 4,
 "nbformat_minor": 0
}
